{
  "nbformat": 4,
  "nbformat_minor": 0,
  "metadata": {
    "colab": {
      "provenance": [],
      "authorship_tag": "ABX9TyPW1Qg0Viou/1nTAWaCLkqP",
      "include_colab_link": true
    },
    "kernelspec": {
      "name": "python3",
      "display_name": "Python 3"
    },
    "language_info": {
      "name": "python"
    }
  },
  "cells": [
    {
      "cell_type": "markdown",
      "metadata": {
        "id": "view-in-github",
        "colab_type": "text"
      },
      "source": [
        "<a href=\"https://colab.research.google.com/github/BlancoSarahi02/sarahi22/blob/main/campos_de_python.ipynb\" target=\"_parent\"><img src=\"https://colab.research.google.com/assets/colab-badge.svg\" alt=\"Open In Colab\"/></a>"
      ]
    },
    {
      "cell_type": "code",
      "execution_count": null,
      "metadata": {
        "colab": {
          "base_uri": "https://localhost:8080/"
        },
        "id": "xsrGvocd43NK",
        "outputId": "049b63db-9bb5-4c73-bee6-c5e6f25a840e"
      },
      "outputs": [
        {
          "output_type": "stream",
          "name": "stdout",
          "text": [
            "3\n",
            "221b Baker Street, NW1 6XE, London\n",
            "{'age': 45, 'role': 'CTO', 'SSN': 'AB1234567'}\n",
            "John Doe\n"
          ]
        }
      ],
      "source": [
        "n = 3  # Número entero\n",
        "address = \"221b Baker Street, NW1 6XE, London\"  # Dirección de Sherlock Holmes\n",
        "employee = {\n",
        "    'age': 45,\n",
        "    'role': 'CTO',\n",
        "    'SSN': 'AB1234567',\n",
        "}\n",
        "\n",
        "# Definir la variable 'other_name'\n",
        "other_name = \"John Doe\"\n",
        "\n",
        "# Imprimir las variables\n",
        "print(n)\n",
        "print(address)\n",
        "print(employee)\n",
        "print(other_name)"
      ]
    },
    {
      "cell_type": "markdown",
      "source": [
        " el programa define varias variables con diferentes tipos de datos y luego las imprime en la consola para que puedan ser visualizadas."
      ],
      "metadata": {
        "id": "3uRJhRO2Snrt"
      }
    },
    {
      "cell_type": "code",
      "source": [
        "# bike.py\n",
        "# Let's define the class Bike\n",
        "class Bike:\n",
        "    def __init__(self, colour, frame_material):\n",
        "        self.colour = colour\n",
        "        self.frame_material = frame_material\n",
        "\n",
        "    def brake(self):\n",
        "        print(\"Braking!\")\n",
        "\n",
        "# Let's create a couple of instances\n",
        "red_bike = Bike('Red', 'Carbon fiber')\n",
        "blue_bike = Bike('Blue', 'Steel')\n",
        "\n",
        "# Let's inspect the objects we have, instances of the Bike class.\n",
        "print(red_bike.colour)  # prints: Red\n",
        "print(red_bike.frame_material)  # prints: Carbon fiber\n",
        "print(blue_bike.colour)  # prints: Blue\n",
        "print(blue_bike.frame_material)  # prints: Steel\n",
        "\n",
        "# Let's brake!\n",
        "red_bike.brake()  # prints: Braking!"
      ],
      "metadata": {
        "colab": {
          "base_uri": "https://localhost:8080/"
        },
        "id": "DuZqaS32TTSW",
        "outputId": "e314e3d5-f8d7-4e31-aad0-66787e55a312"
      },
      "execution_count": null,
      "outputs": [
        {
          "output_type": "stream",
          "name": "stdout",
          "text": [
            "Red\n",
            "Carbon fiber\n",
            "Blue\n",
            "Steel\n",
            "Braking!\n"
          ]
        }
      ]
    },
    {
      "cell_type": "code",
      "source": [
        "# scopes1.py\n",
        "# Local versus Global\n",
        "\n",
        "# Definimos una función llamada local\n",
        "def local():\n",
        "    m = 7\n",
        "    print(m)\n",
        "\n",
        "# Definimos 'm' en el ámbito global\n",
        "m = 5\n",
        "\n",
        "# Llamamos a la función 'local'\n",
        "local()\n",
        "\n",
        "# Imprimimos el valor de 'm' en el ámbito global\n",
        "print(m)\n"
      ],
      "metadata": {
        "colab": {
          "base_uri": "https://localhost:8080/"
        },
        "id": "faSzv44xXjxX",
        "outputId": "a44b1b45-9f86-45cb-efae-aa3c557949d3"
      },
      "execution_count": null,
      "outputs": [
        {
          "output_type": "stream",
          "name": "stdout",
          "text": [
            "7\n",
            "5\n"
          ]
        }
      ]
    },
    {
      "cell_type": "markdown",
      "source": [
        "este código muestra cómo definir una clase en Python, crear instancias de esa clase y trabajar con sus atributos y métodos."
      ],
      "metadata": {
        "id": "HgBYyqbCU0dp"
      }
    },
    {
      "cell_type": "markdown",
      "source": [
        "El código proporciona un ejemplo visual de cómo funcionan los ámbitos en Python, cómo se resuelven los nombres de variables y cómo la sangría define los ámbitos locales y globales."
      ],
      "metadata": {
        "id": "ZSwmM8_qXo7S"
      }
    },
    {
      "cell_type": "code",
      "source": [
        "# Ejemplo de objetos mutables e inmutables en Python\n",
        "\n",
        "# Creamos una variable 'age' que es un objeto inmutable (int)\n",
        "age = 42\n",
        "\n",
        "# Imprimimos el valor de 'age'\n",
        "print(age)  # Output: 42\n",
        "\n",
        "# En la siguiente línea, no estamos cambiando el valor de 'age',\n",
        "# estamos creando un nuevo objeto 'int' con valor 43 y haciendo que 'age' apunte a él\n",
        "age = 43\n",
        "\n",
        "# Imprimimos el nuevo valor de 'age'\n",
        "print(age)  # Output: 43\n",
        "\n",
        "# Imprimimos los IDs de los objetos 'age' antes y después del cambio\n",
        "print(id(age))  # ID antes del cambio\n",
        "age = 43  # Revertimos a 43\n",
        "print(id(age))  # ID después del cambio\n",
        "\n",
        "# Creamos una clase 'Person' (ignorando la declaración de clase por ahora)\n",
        "class Person:\n",
        "    def __init__(self, age):\n",
        "        self.age = age\n",
        "\n",
        "# Creamos una instancia 'fab' de la clase 'Person' con una edad inicial de 42\n",
        "fab = Person(age=42)\n",
        "\n",
        "# Imprimimos la edad de 'fab'\n",
        "print(fab.age)  # Output: 42\n",
        "\n",
        "# Imprimimos el ID de 'fab' y el ID de 'fab.age'\n",
        "print(id(fab))  # ID de 'fab'\n",
        "print(id(fab.age))  # ID de 'fab.age'\n",
        "\n",
        "# Cambiamos la edad de 'fab'\n",
        "fab.age = 25\n",
        "\n",
        "# Imprimimos el ID de 'fab' (que sigue siendo el mismo) y el ID de 'fab.age' (que ha cambiado)\n",
        "print(id(fab))  # ID de 'fab' sigue siendo el mismo\n",
        "print(id(fab.age))  # ID de 'fab.age' ha cambiado"
      ],
      "metadata": {
        "colab": {
          "base_uri": "https://localhost:8080/"
        },
        "id": "7K56g84FYR3j",
        "outputId": "c83941a9-0b05-49b6-cec8-12c22843dc9d"
      },
      "execution_count": null,
      "outputs": [
        {
          "output_type": "stream",
          "name": "stdout",
          "text": [
            "42\n",
            "43\n",
            "132688364799536\n",
            "132688364799536\n",
            "42\n",
            "132687662044288\n",
            "132688364799504\n",
            "132687662044288\n",
            "132688364798960\n"
          ]
        }
      ]
    },
    {
      "cell_type": "markdown",
      "source": [
        "Para objetos mutables, como un ejemplo de la clase Persona, se pueden realizar cambios en el objeto sin cambiar su identificador (ID), mientras que para objetos inmutables, como números enteros, se crea un nuevo objeto con una nueva ID cuando se realizan cambios."
      ],
      "metadata": {
        "id": "KjPKaw-YZNP6"
      }
    },
    {
      "cell_type": "code",
      "source": [
        "# Ejemplo de operaciones y funciones relacionadas con números enteros en Python\n",
        "\n",
        "# Ejemplo de operaciones aritméticas básicas\n",
        "a = 14\n",
        "b = 3\n",
        "print(a + b)  # Suma\n",
        "print(a - b)  # Resta\n",
        "print(a * b)  # Multiplicación\n",
        "print(a / b)  # División real\n",
        "print(a // b)  # División entera\n",
        "print(a % b)  # Operación módulo (resto de la división)\n",
        "print(a ** b)  # Operación de potencia\n",
        "\n",
        "# Ejemplo de divisiones con números negativos\n",
        "print(7 / 4)  # División real\n",
        "print(7 // 4)  # División entera\n",
        "print(-7 / 4)  # División real con número negativo\n",
        "print(-7 // 4)  # División entera con número negativo\n",
        "\n",
        "# Ejemplo de truncación de números a enteros usando la función int()\n",
        "print(int(1.75))\n",
        "print(int(-1.75))\n",
        "\n",
        "# Ejemplo del operador de potencia ** y la función pow()\n",
        "print(pow(10, 3))\n",
        "print(10 ** 3)\n",
        "print(pow(10, -3))\n",
        "print(10 ** -3)\n",
        "\n",
        "# Ejemplo del operador de módulo (%)\n",
        "print(10 % 3)\n",
        "print(10 % 4)\n",
        "\n",
        "# Ejemplo de uso de la función pow() con tres argumentos\n",
        "print(pow(123, 4))\n",
        "print(pow(123, 4, 100))\n",
        "print(pow(37, -1, 43))\n",
        "print(7 * 37 % 43)\n",
        "\n",
        "# Ejemplo de uso de guiones bajos en números literales\n",
        "n = 1_024\n",
        "print(n)\n",
        "hex_n = 0x_4_0_0\n",
        "print(hex_n)"
      ],
      "metadata": {
        "colab": {
          "base_uri": "https://localhost:8080/"
        },
        "id": "lZNJ-wNxZcmh",
        "outputId": "2f1a7a27-0727-4081-e6a9-9d3573807423"
      },
      "execution_count": null,
      "outputs": [
        {
          "output_type": "stream",
          "name": "stdout",
          "text": [
            "17\n",
            "11\n",
            "42\n",
            "4.666666666666667\n",
            "4\n",
            "2\n",
            "2744\n",
            "1.75\n",
            "1\n",
            "-1.75\n",
            "-2\n",
            "1\n",
            "-1\n",
            "1000\n",
            "1000\n",
            "0.001\n",
            "0.001\n",
            "1\n",
            "2\n",
            "228886641\n",
            "41\n",
            "7\n",
            "1\n",
            "1024\n",
            "1024\n"
          ]
        }
      ]
    },
    {
      "cell_type": "markdown",
      "source": [
        "el código proporciona ejemplos claros de cómo trabajar con números enteros en Python y cómo realizar diversas operaciones matemáticas"
      ],
      "metadata": {
        "id": "ILVqaN-3Zweu"
      }
    },
    {
      "cell_type": "code",
      "source": [
        "# Ejemplo de valores booleanos y operaciones en Python\n",
        "\n",
        "# True y False son palabras clave que representan los valores verdadero y falso\n",
        "# Se comportan como 1 y 0 respectivamente\n",
        "print(int(True))  # True se comporta como 1\n",
        "print(int(False))  # False se comporta como 0\n",
        "\n",
        "# La clase equivalente de int para booleanos es bool, que devuelve True o False\n",
        "# Cualquier objeto incorporado de Python tiene un valor en el contexto booleano,\n",
        "# lo que significa que básicamente se evalúan como True o False cuando se pasan\n",
        "# a la función bool.\n",
        "print(bool(1))  # 1 se evalúa como True en contexto booleano\n",
        "print(bool(-42))  # Cualquier número no cero se evalúa como True\n",
        "print(bool(0))  # 0 se evalúa como False\n",
        "\n",
        "# Ejemplos de operadores lógicos (and, or, not)\n",
        "print(not True)\n",
        "print(not False)\n",
        "print(True and True)\n",
        "print(False or True)\n",
        "\n",
        "# True y False se pueden utilizar en operaciones aritméticas\n",
        "# Se convierten automáticamente en enteros y se realizan las operaciones\n",
        "print(1 + True)  # 1 + 1 = 2\n",
        "print(False + 42)  # 0 + 42 = 42\n",
        "print(7 - True)  # 7 - 1 = 6"
      ],
      "metadata": {
        "colab": {
          "base_uri": "https://localhost:8080/"
        },
        "id": "fnv6iHbjaEz7",
        "outputId": "54528b52-6adf-448e-d640-34671f610c85"
      },
      "execution_count": null,
      "outputs": [
        {
          "output_type": "stream",
          "name": "stdout",
          "text": [
            "1\n",
            "0\n",
            "True\n",
            "True\n",
            "False\n",
            "False\n",
            "True\n",
            "True\n",
            "True\n",
            "2\n",
            "42\n",
            "6\n"
          ]
        }
      ]
    },
    {
      "cell_type": "markdown",
      "source": [
        "el código ilustra cómo Python maneja los valores booleanos y cómo se pueden utilizar en operaciones matemáticas y lógicas. También destaca la relación entre los valores booleanos y los enteros, así como la conversión automática entre ellos."
      ],
      "metadata": {
        "id": "3q1DbEJ7b525"
      }
    },
    {
      "cell_type": "markdown",
      "source": [],
      "metadata": {
        "id": "wxEbIznXcC2k"
      }
    },
    {
      "cell_type": "code",
      "source": [
        "\n",
        "area = pi * (radius ** 2)\n",
        "print(area)  # Imprime el área calculada\n",
        "\n",
        "# sys.float_info contiene información sobre cómo se comportarán los números de punto flotante en su sistema.\n",
        "# Este es un ejemplo de lo que podría ver:\n",
        "\n",
        "import sys\n",
        "print(sys.float_info)\n",
        "\n",
        "# Consideraciones sobre la precisión de los números de punto flotante en Python.\n",
        "# Los números de punto flotante de doble precisión sufren problemas de aproximación incluso\n",
        "# cuando se trata de números simples como 0.1 o 0.3.\n",
        "\n",
        "result = 0.3 - 0.1 * 3\n",
        "print(result)  # Esto debería ser 0, pero obtiene una pequeña aproximación.\n",
        "\n",
        "# En el cálculo del área, hemos envuelto radius ** 2 entre paréntesis.\n",
        "# Aunque eso no era necesario porque el operador de potencia tiene una precedencia mayor que el de multiplicación,\n",
        "# creemos que la fórmula se lee más fácilmente de esa manera.\n",
        "# Además, si obtiene un resultado ligeramente diferente para el área, no se preocupe.\n",
        "# Puede depender de su sistema operativo, cómo se compiló Python, y así sucesivamente.\n",
        "# Mientras que las primeras cifras decimales sean correctas, sabe que es un resultado correcto.\n",
        "\n",
        "# Esto resalta la importancia de la precisión al manejar números de punto flotante,\n",
        "# especialmente en casos como precios o cálculos financieros.\n",
        "# Python ofrece el tipo Decimal, que no sufre de estos problemas; lo veremos en un momento."
      ],
      "metadata": {
        "colab": {
          "base_uri": "https://localhost:8080/"
        },
        "id": "SRSYpudhcb86",
        "outputId": "bc74443d-f95a-45be-c384-2cc3f4935eb4"
      },
      "execution_count": null,
      "outputs": [
        {
          "output_type": "stream",
          "name": "stdout",
          "text": [
            "63.617251235400005\n",
            "sys.float_info(max=1.7976931348623157e+308, max_exp=1024, max_10_exp=308, min=2.2250738585072014e-308, min_exp=-1021, min_10_exp=-307, dig=15, mant_dig=53, epsilon=2.220446049250313e-16, radix=2, rounds=1)\n",
            "-5.551115123125783e-17\n"
          ]
        }
      ]
    },
    {
      "cell_type": "markdown",
      "source": [
        " el código proporciona información importante sobre la representación y precisión de números de punto flotante en Python, así como sobre la existencia del tipo Decimal para cálculos precisos. También resalta la necesidad de ser consciente de las limitaciones de la precisión al trabajar con números de punto flotante."
      ],
      "metadata": {
        "id": "DPJz1wQDeT5h"
      }
    },
    {
      "cell_type": "code",
      "source": [
        "# Ejemplo de números complejos en Python\n",
        "\n",
        "# Python proporciona soporte para números complejos de forma nativa.\n",
        "# Los números complejos se pueden expresar en la forma a + ib,\n",
        "# donde a y b son números reales, e i (o j si eres ingeniero) es la unidad imaginaria;\n",
        "# es decir, la raíz cuadrada de -1. a y b se llaman, respectivamente, la parte real e imaginaria del número.\n",
        "\n",
        "# Es poco probable que los uses a menos que estés programando algo científico.\n",
        "# Sin embargo, veamos un pequeño ejemplo:\n",
        "\n",
        "c = 3.14 + 2.73j\n",
        "print(c)  # Imprime el número complejo\n",
        "\n",
        "# También puedes crear números complejos utilizando la función complex():\n",
        "\n",
        "c = complex(3.14, 2.73)\n",
        "print(c)  # Imprime el número complejo\n",
        "\n",
        "# Puedes acceder a la parte real e imaginaria de un número complejo:\n",
        "\n",
        "real_part = c.real\n",
        "imaginary_part = c.imag\n",
        "print(real_part)  # Imprime la parte real\n",
        "print(imaginary_part)  # Imprime la parte imaginaria\n",
        "\n",
        "# Calcula el conjugado de un número complejo:\n",
        "\n",
        "conjugate = c.conjugate()\n",
        "print(conjugate)  # Imprime el conjugado\n",
        "\n",
        "# Realiza operaciones matemáticas con números complejos, como la multiplicación y la potenciación:\n",
        "\n",
        "multiplication = c * 2\n",
        "print(multiplication)  # Imprime el resultado de la multiplicación\n",
        "\n",
        "power = c ** 2\n",
        "print(power)  # Imprime el resultado de la potenciación\n",
        "\n",
        "# También puedes realizar operaciones de suma y resta con números complejos:\n",
        "\n",
        "d = 1 + 1j\n",
        "subtraction = c - d\n",
        "print(subtraction)  # Imprime el resultado de la resta"
      ],
      "metadata": {
        "colab": {
          "base_uri": "https://localhost:8080/"
        },
        "id": "PiHh_PCnfHtk",
        "outputId": "c54eabea-8110-4b39-f246-ab333975aa2c"
      },
      "execution_count": null,
      "outputs": [
        {
          "output_type": "stream",
          "name": "stdout",
          "text": [
            "(3.14+2.73j)\n",
            "(3.14+2.73j)\n",
            "3.14\n",
            "2.73\n",
            "(3.14-2.73j)\n",
            "(6.28+5.46j)\n",
            "(2.4067000000000007+17.1444j)\n",
            "(2.14+1.73j)\n"
          ]
        }
      ]
    },
    {
      "cell_type": "markdown",
      "source": [
        "el código proporciona una introducción clara y concisa a cómo trabajar con números complejos en Python y las operaciones básicas que se pueden realizar con ellos."
      ],
      "metadata": {
        "id": "hcFTG3GofhGi"
      }
    },
    {
      "cell_type": "code",
      "source": [
        "rom fractions import Fraction\n",
        "\n",
        "# Crear una fracción\n",
        "frac = Fraction(10, 6)\n",
        "print(frac)  # Resultado: 5/3\n",
        "\n",
        "# Operaciones con fracciones\n",
        "frac_sum = Fraction(1, 3) + Fraction(2, 3)\n",
        "print(frac_sum)  # Resultado: 1\n",
        "\n",
        "# Acceder a partes de una fracción\n",
        "frac = Fraction(10, 6)\n",
        "print(frac.numerator)  # Numerador: 5\n",
        "print(frac.denominator)  # Denominador: 3\n",
        "print(frac.as_integer_ratio())  # Relación como número entero: (5, 3)\n",
        "\n",
        "# Uso de números decimales\n",
        "from decimal import Decimal as D\n",
        "\n",
        "# Crear un número decimal\n",
        "pi_approx = D(3.14)\n",
        "print(pi_approx)  # Resultado: 3.140000000000000124344978758017532527446746826171875\n",
        "\n",
        "# Operaciones con números decimales\n",
        "result = D('0.1') * D(3) - D('0.3')\n",
        "print(result)  # Resultado: 0.0\n",
        "\n",
        "# Obtener relación de número decimal como número entero\n",
        "decimal_frac = D('1.4').as_integer_ratio()\n",
        "print(decimal_frac)  # Resultado: (7, 5)"
      ],
      "metadata": {
        "colab": {
          "base_uri": "https://localhost:8080/"
        },
        "id": "R58l16N9f9s1",
        "outputId": "237566c2-a8bf-4624-c771-ede5ce163f40"
      },
      "execution_count": null,
      "outputs": [
        {
          "output_type": "stream",
          "name": "stdout",
          "text": [
            "5/3\n",
            "1\n",
            "5\n",
            "3\n",
            "(5, 3)\n",
            "3.140000000000000124344978758017532527446746826171875\n",
            "0.0\n",
            "(7, 5)\n"
          ]
        }
      ]
    },
    {
      "cell_type": "markdown",
      "source": [
        " el código proporciona una introducción a cómo trabajar con fracciones y números decimales en Python, destacando su utilidad en situaciones que requieren precisión y evitando problemas de aproximación que pueden ocurrir con números de punto flotante estándar."
      ],
      "metadata": {
        "id": "Xqr5cvccgdtD"
      }
    },
    {
      "cell_type": "code",
      "source": [
        "from collections import defaultdict\n",
        "\n",
        "# Create a defaultdict with int as the default value type (0 by default)\n",
        "dd = defaultdict(int)\n",
        "\n",
        "# Increase the 'age' key by 1\n",
        "dd['age'] += 1\n",
        "\n",
        "# Now, 'age' is automatically created with a default value of 0\n",
        "print(dd['age'])  # Output: 1"
      ],
      "metadata": {
        "colab": {
          "base_uri": "https://localhost:8080/"
        },
        "id": "zerw8MLIh8OH",
        "outputId": "fa10f4aa-1b98-4478-f31d-4b43805728a1"
      },
      "execution_count": null,
      "outputs": [
        {
          "output_type": "stream",
          "name": "stdout",
          "text": [
            "1\n"
          ]
        }
      ]
    },
    {
      "cell_type": "markdown",
      "source": [
        "mejora la legibilidad, lo que es especialmente útil cuando trabajas con estructuras de datos complejas y quieres evitar errores relacionados con la falta de claves en un diccionario."
      ],
      "metadata": {
        "id": "Jkg2URBYjVw1"
      }
    },
    {
      "cell_type": "code",
      "source": [
        "# coupons_optimized.py\n",
        "customers = [\n",
        "    {'id': 1, 'total': 200, 'coupon_code': 'F20'},  # F20: fixed, £20\n",
        "    {'id': 2, 'total': 150, 'coupon_code': 'P30'},  # P30: percent, 30%\n",
        "    {'id': 3, 'total': 100, 'coupon_code': 'P50'},  # P50: percent, 50%\n",
        "    {'id': 4, 'total': 110, 'coupon_code': 'F15'},  # F15: fixed, £15\n",
        "]\n",
        "\n",
        "discounts = {\n",
        "    'F20': (0.0, 20.0),  # (percent, fixed)\n",
        "    'P30': (0.3, 0.0),\n",
        "    'P50': (0.5, 0.0),\n",
        "    'F15': (0.0, 15.0),\n",
        "}\n",
        "\n",
        "for customer in customers:\n",
        "    code = customer['coupon_code']\n",
        "    percent, fixed = discounts.get(code, (0.0, 0.0))\n",
        "    customer['discount'] = percent * customer['total'] + fixed\n",
        "\n",
        "for customer in customers:\n",
        "    print(customer['id'], customer['total'], customer['discount'])"
      ],
      "metadata": {
        "colab": {
          "base_uri": "https://localhost:8080/"
        },
        "id": "AbyNjfMDm9Dl",
        "outputId": "66165330-f1b8-4c6e-f72c-de5745452ed7"
      },
      "execution_count": null,
      "outputs": [
        {
          "output_type": "stream",
          "name": "stdout",
          "text": [
            "1 200 20.0\n",
            "2 150 45.0\n",
            "3 100 50.0\n",
            "4 110 15.0\n"
          ]
        }
      ]
    },
    {
      "cell_type": "markdown",
      "source": [
        "Este código sigue produciendo el mismo resultado que el código original, pero es más legible y escalable, especialmente si necesitas agregar más códigos de cupón en el futuro."
      ],
      "metadata": {
        "id": "rL7Q4AD3nNN_"
      }
    },
    {
      "cell_type": "code",
      "source": [
        "# parameters.defaults.mutable.fixed.py\n",
        "def func(a=None, b=None):\n",
        "    if a is None:\n",
        "        a = []\n",
        "    if b is None:\n",
        "        b = {}\n",
        "    print(a)\n",
        "    print(b)\n",
        "    print('#' * 12)\n",
        "    a.append(len(a))\n",
        "    b[len(a)] = len(a)\n",
        "\n",
        "func()\n",
        "func()\n",
        "func()"
      ],
      "metadata": {
        "colab": {
          "base_uri": "https://localhost:8080/"
        },
        "id": "SBSecImYorHF",
        "outputId": "1eb3fdf2-dd09-4b70-b6ec-8b311f675637"
      },
      "execution_count": null,
      "outputs": [
        {
          "output_type": "stream",
          "name": "stdout",
          "text": [
            "[]\n",
            "{}\n",
            "############\n",
            "[]\n",
            "{}\n",
            "############\n",
            "[]\n",
            "{}\n",
            "############\n"
          ]
        }
      ]
    },
    {
      "cell_type": "code",
      "source": [
        "def multiplication(a, b=1):\n",
        "    \"\"\"Return a multiplied by b. \"\"\"\n",
        "    return a * b\n",
        "\n",
        "special_attributes = [\n",
        "    \"__doc__\", \"__name__\", \"__qualname__\", \"__module__\",\n",
        "    \"__defaults__\", \"__code__\", \"__globals__\", \"__dict__\",\n",
        "    \"__closure__\", \"__annotations__\", \"__kwdefaults__\",\n",
        "]\n",
        "\n",
        "for attribute in special_attributes:\n",
        "    print(attribute, '->', getattr(multiplication, attribute))"
      ],
      "metadata": {
        "colab": {
          "base_uri": "https://localhost:8080/"
        },
        "id": "iGfjEm0So0km",
        "outputId": "c9f41043-1f42-488a-b891-b85fffd2815c"
      },
      "execution_count": null,
      "outputs": [
        {
          "output_type": "stream",
          "name": "stdout",
          "text": [
            "__doc__ -> Return a multiplied by b. \n",
            "__name__ -> multiplication\n",
            "__qualname__ -> multiplication\n",
            "__module__ -> __main__\n",
            "__defaults__ -> (1,)\n",
            "__code__ -> <code object multiplication at 0x78adc0e48be0, file \"<ipython-input-28-5c21a3f5e75c>\", line 1>\n",
            "__globals__ -> {'__name__': '__main__', '__doc__': 'Automatically created module for IPython interactive environment', '__package__': None, '__loader__': None, '__spec__': None, '__builtin__': <module 'builtins' (built-in)>, '__builtins__': <module 'builtins' (built-in)>, '_ih': ['', '# @title Texto de título predeterminado', 'n = 3 # integer number\\naddress = \"221b Baker Street, NW1 6XE, London\" # Sherlock Holmes\\'\\naddress\\nemployee = {\\n... \\'age\\': 45,\\n... \\'role\\': \\'CTO\\',\\n... \\'SSN\\': \\'AB1234567\\',\\n... }\\n# let\\'s print them\\nn\\n3\\naddress\\n\\'221b Baker Street, NW1 6XE, London\\'\\nemployee\\n{\\'age\\': 45, \\'role\\': \\'CTO\\', \\'SSN\\': \\'AB1234567\\'}\\n>>> other_name\\nTraceback (most recent call last):\\nFile \"<stdin>\", line 1, in <module>\\nNameError: name \\'other_name\\'\\xa0is\\xa0not\\xa0defined', 'n = 3 # integer number\\naddress = \"221b Baker Street, NW1 6XE, London\" # Sherlock Holmes\\'\\naddress\\nemployee = {\\n\\'age\\': 45,\\n\\'role\\': \\'CTO\\',\\n\\'SSN\\': \\'AB1234567\\',\\n}\\n# let\\'s print them\\nn\\naddress\\nemployee\\n>>> other_name', 'n = 3 # integer number\\naddress = \"221b Baker Street, NW1 6XE, London\" # Sherlock Holmes\\'\\nemployee = {\\n    \\'age\\': 45,\\n    \\'role\\': \\'CTO\\',\\n    \\'SSN\\': \\'AB1234567\\',\\n}\\n# let\\'s print them \\nprint(n)\\nprint(address)\\nprint(employee)\\nprint(other_name)', 'n = 3 # integer number\\naddress = \"221b Baker Street, NW1 6XE, London\" # Sherlock Holmes\\'\\nemployee = {\\n    \\'age\\': 45,\\n    \\'role\\': \\'CTO\\',\\n    \\'SSN\\': \\'AB1234567\\',\\n}\\n# let\\'s print them \\nprint(n)\\nprint(address)\\nprint(employee)\\nprint(other_name)', 'n = 3  # Número entero\\naddress = \"221b Baker Street, NW1 6XE, London\"  # Dirección de Sherlock Holmes\\nemployee = {\\n    \\'age\\': 45,\\n    \\'role\\': \\'CTO\\',\\n    \\'SSN\\': \\'AB1234567\\',\\n}\\n\\n# Definir la variable \\'other_name\\'\\nother_name = \"John Doe\"\\n\\n# Imprimir las variables\\nprint(n)\\nprint(address)\\nprint(employee)\\nprint(other_name)', '# bike.py\\n# Let\\'s define the class Bike\\nclass Bike:\\n    def __init__(self, colour, frame_material):\\n        self.colour = colour\\n        self.frame_material = frame_material\\n\\n    def brake(self):\\n        print(\"Braking!\")\\n\\n# Let\\'s create a couple of instances\\nred_bike = Bike(\\'Red\\', \\'Carbon fiber\\')\\nblue_bike = Bike(\\'Blue\\', \\'Steel\\')\\n\\n# Let\\'s inspect the objects we have, instances of the Bike class.\\nprint(red_bike.colour)  # prints: Red\\nprint(red_bike.frame_material)  # prints: Carbon fiber\\nprint(blue_bike.colour)  # prints: Blue\\nprint(blue_bike.frame_material)  # prints: Steel\\n\\n# Let\\'s brake!\\nred_bike.brake()  # prints: Braking!', '# bike.py\\n# Let\\'s define the class Bike\\nclass Bike:\\n    def __init__(self, colour, frame_material):\\n        self.colour = colour\\n        self.frame_material = frame_material\\n\\n    def brake(self):\\n        print(\"Braking!\")\\n\\n# Let\\'s create a couple of instances\\nred_bike = Bike(\\'Red\\', \\'Carbon fiber\\')\\nblue_bike = Bike(\\'Blue\\', \\'Steel\\')\\n\\n# Let\\'s inspect the objects we have, instances of the Bike class.\\nprint(red_bike.colour)  # prints: Red\\nprint(red_bike.frame_material)  # prints: Carbon fiber\\nprint(blue_bike.colour)  # prints: Blue\\nprint(blue_bike.frame_material)  # prints: Steel\\n\\n# Let\\'s brake!\\nred_bike.brake()  # prints: Braking!', \"# scopes1.py\\n# Local versus Global\\n\\n# Definimos una función llamada local\\ndef local():\\n    m = 7\\n    print(m)\\n\\n# Definimos 'm' en el ámbito global\\nm = 5\\n\\n# Llamamos a la función 'local'\\nlocal()\\n\\n# Imprimimos el valor de 'm' en el ámbito global\\nprint(m)\", \"# Ejemplo de objetos mutables e inmutables en Python\\n\\n# Creamos una variable 'age' que es un objeto inmutable (int)\\nage = 42\\n\\n# Imprimimos el valor de 'age'\\nprint(age)  # Output: 42\\n\\n# En la siguiente línea, no estamos cambiando el valor de 'age',\\n# estamos creando un nuevo objeto 'int' con valor 43 y haciendo que 'age' apunte a él\\nage = 43\\n\\n# Imprimimos el nuevo valor de 'age'\\nprint(age)  # Output: 43\\n\\n# Imprimimos los IDs de los objetos 'age' antes y después del cambio\\nprint(id(age))  # ID antes del cambio\\nage = 43  # Revertimos a 43\\nprint(id(age))  # ID después del cambio\\n\\n# Creamos una clase 'Person' (ignorando la declaración de clase por ahora)\\nclass Person:\\n    def __init__(self, age):\\n        self.age = age\\n\\n# Creamos una instancia 'fab' de la clase 'Person' con una edad inicial de 42\\nfab = Person(age=42)\\n\\n# Imprimimos la edad de 'fab'\\nprint(fab.age)  # Output: 42\\n\\n# Imprimimos el ID de 'fab' y el ID de 'fab.age'\\nprint(id(fab))  # ID de 'fab'\\nprint(id(fab.age))  # ID de 'fab.age'\\n\\n# Cambiamos la edad de 'fab'\\nfab.age = 25\\n\\n# Imprimimos el ID de 'fab' (que sigue siendo el mismo) y el ID de 'fab.age' (que ha cambiado)\\nprint(id(fab))  # ID de 'fab' sigue siendo el mismo\\nprint(id(fab.age))  # ID de 'fab.age' ha cambiado\", '# Ejemplo de operaciones y funciones relacionadas con números enteros en Python\\n\\n# Ejemplo de operaciones aritméticas básicas\\na = 14\\nb = 3\\nprint(a + b)  # Suma\\nprint(a - b)  # Resta\\nprint(a * b)  # Multiplicación\\nprint(a / b)  # División real\\nprint(a // b)  # División entera\\nprint(a % b)  # Operación módulo (resto de la división)\\nprint(a ** b)  # Operación de potencia\\n\\n# Ejemplo de divisiones con números negativos\\nprint(7 / 4)  # División real\\nprint(7 // 4)  # División entera\\nprint(-7 / 4)  # División real con número negativo\\nprint(-7 // 4)  # División entera con número negativo\\n\\n# Ejemplo de truncación de números a enteros usando la función int()\\nprint(int(1.75))\\nprint(int(-1.75))\\n\\n# Ejemplo del operador de potencia ** y la función pow()\\nprint(pow(10, 3))\\nprint(10 ** 3)\\nprint(pow(10, -3))\\nprint(10 ** -3)\\n\\n# Ejemplo del operador de módulo (%)\\nprint(10 % 3)\\nprint(10 % 4)\\n\\n# Ejemplo de uso de la función pow() con tres argumentos\\nprint(pow(123, 4))\\nprint(pow(123, 4, 100))\\nprint(pow(37, -1, 43))\\nprint(7 * 37 % 43)\\n\\n# Ejemplo de uso de guiones bajos en números literales\\nn = 1_024\\nprint(n)\\nhex_n = 0x_4_0_0\\nprint(hex_n)', '# Ejemplo de valores booleanos y operaciones en Python\\n\\n# True y False son palabras clave que representan los valores verdadero y falso\\n# Se comportan como 1 y 0 respectivamente\\nprint(int(True))  # True se comporta como 1\\nprint(int(False))  # False se comporta como 0\\n\\n# La clase equivalente de int para booleanos es bool, que devuelve True o False\\n# Cualquier objeto incorporado de Python tiene un valor en el contexto booleano,\\n# lo que significa que básicamente se evalúan como True o False cuando se pasan\\n# a la función bool.\\nprint(bool(1))  # 1 se evalúa como True en contexto booleano\\nprint(bool(-42))  # Cualquier número no cero se evalúa como True\\nprint(bool(0))  # 0 se evalúa como False\\n\\n# Ejemplos de operadores lógicos (and, or, not)\\nprint(not True)\\nprint(not False)\\nprint(True and True)\\nprint(False or True)\\n\\n# True y False se pueden utilizar en operaciones aritméticas\\n# Se convierten automáticamente en enteros y se realizan las operaciones\\nprint(1 + True)  # 1 + 1 = 2\\nprint(False + 42)  # 0 + 42 = 42\\nprint(7 - True)  # 7 - 1 = 6', '# Ejemplo de valores booleanos y operaciones en Python\\n\\n# True y False son palabras clave que representan los valores verdadero y falso\\n# Se comportan como 1 y 0 respectivamente\\nprint(int(True))  # True se comporta como 1\\nprint(int(False))  # False se comporta como 0\\n\\n# La clase equivalente de int para booleanos es bool, que devuelve True o False\\n# Cualquier objeto incorporado de Python tiene un valor en el contexto booleano,\\n# lo que significa que básicamente se evalúan como True o False cuando se pasan\\n# a la función bool.\\nprint(bool(1))  # 1 se evalúa como True en contexto booleano\\nprint(bool(-42))  # Cualquier número no cero se evalúa como True\\nprint(bool(0))  # 0 se evalúa como False\\n\\n# Ejemplos de operadores lógicos (and, or, not)\\nprint(not True)\\nprint(not False)\\nprint(True and True)\\nprint(False or True)\\n\\n# True y False se pueden utilizar en operaciones aritméticas\\n# Se convierten automáticamente en enteros y se realizan las operaciones\\nprint(1 + True)  # 1 + 1 = 2\\nprint(False + 42)  # 0 + 42 = 42\\nprint(7 - True)  # 7 - 1 = 6', '# Ejemplo de números de punto flotante en Python\\n\\n# En Python, los números de punto flotante se representan según el formato binario de punto flotante\\n# de doble precisión IEEE 754, que se almacena en 64 bits de información divididos en tres secciones: signo, exponente y mantisa.\\n\\n# Upcasting es una operación de conversión de tipo que va de una subclase a su clase padre.\\n# En este ejemplo, True y False, que pertenecen a una clase derivada de la clase entera, se convierten de nuevo en enteros cuando es necesario.\\n# Este tema trata sobre la herencia y se explicará en detalle en el Capítulo 6, OOP, Decorators, and Iterators.\\n\\n# Más información sobre este formato en Wikipedia:\\n# http://en.wikipedia.org/wiki/Double-precision_\\n# floating-point_format.\\n\\n# Python solo admite el formato de doble precisión. Veamos un ejemplo simple:\\n\\npi = 3.1415926536 # ¿Cuántos dígitos de PI puedes recordar?\\nradius = 4.5\\narea = pi * (radius ** 2)\\nprint(area)  # Imprime el área calculada\\n\\n# sys.float_info contiene información sobre cómo se comportarán los números de punto flotante en su sistema.\\n# Este es un ejemplo de lo que podría ver:\\n\\nimport sys\\nprint(sys.float_info)\\n\\n# Consideraciones sobre la precisión de los números de punto flotante en Python.\\n# Los números de punto flotante de doble precisión sufren problemas de aproximación incluso\\n# cuando se trata de números simples como 0.1 o 0.3.\\n\\nresult = 0.3 - 0.1 * 3\\nprint(result)  # Esto debería ser 0, pero obtiene una pequeña aproximación.\\n\\n# En el cálculo del área, hemos envuelto radius ** 2 entre paréntesis.\\n# Aunque eso no era necesario porque el operador de potencia tiene una precedencia mayor que el de multiplicación,\\n# creemos que la fórmula se lee más fácilmente de esa manera.\\n# Además, si obtiene un resultado ligeramente diferente para el área, no se preocupe.\\n# Puede depender de su sistema operativo, cómo se compiló Python, y así sucesivamente.\\n# Mientras que las primeras cifras decimales sean correctas, sabe que es un resultado correcto.\\n\\n# Esto resalta la importancia de la precisión al manejar números de punto flotante,\\n# especialmente en casos como precios o cálculos financieros.\\n# Python ofrece el tipo Decimal, que no sufre de estos problemas; lo veremos en un momento.', '# Ejemplo de números complejos en Python\\n\\n# Python proporciona soporte para números complejos de forma nativa.\\n# Los números complejos se pueden expresar en la forma a + ib,\\n# donde a y b son números reales, e i (o j si eres ingeniero) es la unidad imaginaria;\\n# es decir, la raíz cuadrada de -1. a y b se llaman, respectivamente, la parte real e imaginaria del número.\\n\\n# Es poco probable que los uses a menos que estés programando algo científico.\\n# Sin embargo, veamos un pequeño ejemplo:\\n\\nc = 3.14 + 2.73j\\nprint(c)  # Imprime el número complejo\\n\\n# También puedes crear números complejos utilizando la función complex():\\n\\nc = complex(3.14, 2.73)\\nprint(c)  # Imprime el número complejo\\n\\n# Puedes acceder a la parte real e imaginaria de un número complejo:\\n\\nreal_part = c.real\\nimaginary_part = c.imag\\nprint(real_part)  # Imprime la parte real\\nprint(imaginary_part)  # Imprime la parte imaginaria\\n\\n# Calcula el conjugado de un número complejo:\\n\\nconjugate = c.conjugate()\\nprint(conjugate)  # Imprime el conjugado\\n\\n# Realiza operaciones matemáticas con números complejos, como la multiplicación y la potenciación:\\n\\nmultiplication = c * 2\\nprint(multiplication)  # Imprime el resultado de la multiplicación\\n\\npower = c ** 2\\nprint(power)  # Imprime el resultado de la potenciación\\n\\n# También puedes realizar operaciones de suma y resta con números complejos:\\n\\nd = 1 + 1j\\nsubtraction = c - d\\nprint(subtraction)  # Imprime el resultado de la resta', \"from fractions import Fraction\\n\\n# Crear una fracción\\nfrac = Fraction(10, 6)\\nprint(frac)  # Resultado: 5/3\\n\\n# Operaciones con fracciones\\nfrac_sum = Fraction(1, 3) + Fraction(2, 3)\\nprint(frac_sum)  # Resultado: 1\\n\\n# Acceder a partes de una fracción\\nfrac = Fraction(10, 6)\\nprint(frac.numerator)  # Numerador: 5\\nprint(frac.denominator)  # Denominador: 3\\nprint(frac.as_integer_ratio())  # Relación como número entero: (5, 3)\\n\\n# Uso de números decimales\\nfrom decimal import Decimal as D\\n\\n# Crear un número decimal\\npi_approx = D(3.14)\\nprint(pi_approx)  # Resultado: 3.140000000000000124344978758017532527446746826171875\\n\\n# Operaciones con números decimales\\nresult = D('0.1') * D(3) - D('0.3')\\nprint(result)  # Resultado: 0.0\\n\\n# Obtener relación de número decimal como número entero\\ndecimal_frac = D('1.4').as_integer_ratio()\\nprint(decimal_frac)  # Resultado: (7, 5)\", \"from fractions import Fraction\\n\\n# Crear una fracción\\nfrac = Fraction(10, 6)\\nprint(frac)  # Resultado: 5/3\\n\\n# Operaciones con fracciones\\nfrac_sum = Fraction(1, 3) + Fraction(2, 3)\\nprint(frac_sum)  # Resultado: 1\\n\\n# Acceder a partes de una fracción\\nfrac = Fraction(10, 6)\\nprint(frac.numerator)  # Numerador: 5\\nprint(frac.denominator)  # Denominador: 3\\nprint(frac.as_integer_ratio())  # Relación como número entero: (5, 3)\\n\\n# Uso de números decimales\\nfrom decimal import Decimal as D\\n\\n# Crear un número decimal\\npi_approx = D(3.14)\\nprint(pi_approx)  # Resultado: 3.140000000000000124344978758017532527446746826171875\\n\\n# Operaciones con números decimales\\nresult = D('0.1') * D(3) - D('0.3')\\nprint(result)  # Resultado: 0.0\\n\\n# Obtener relación de número decimal como número entero\\ndecimal_frac = D('1.4').as_integer_ratio()\\nprint(decimal_frac)  # Resultado: (7, 5)\", \"from collections import defaultdict\\n\\n# Create a defaultdict with int as the default value type (0 by default)\\ndd = defaultdict(int)\\n\\n# Increase the 'age' key by 1\\ndd['age'] += 1\\n\\n# Now, 'age' is automatically created with a default value of 0\\nprint(dd['age'])  # Output: 1\", \"class DriverException(Exception):\\n    pass\\n\\npeople = [('James', 17), ('Kirk', 9), ('Lars', 13), ('Robert', 8)]\\ndriver = None\\n\\nfor person, age in people:\\n    if age >= 18:\\n        driver = (person, age)\\n        break\\nelse:\\n    raise DriverException('Driver not found.')\", \"class DriverException(Exception):\\n    pass\\n\\npeople = [('James', 17), ('Kirk', 9), ('Lars', 13), ('Robert', 8)]\\ndriver = None\\n\\nfor person, age in people:\\n    if age >= 18:\\n        driver = (person, age)\\n        break\\nelse:\\n    raise DriverException('Driver not found.')\", \"class DriverException(Exception):\\n    pass\\n\\npeople = [('James', 17), ('Kirk', 9), ('Lars', 13), ('Robert', 8)]\\ndriver = None\\n\\nfor person, age in people:\\n    if age >= 18:\\n        driver = (person, age)\\n        break\\nelse:\\n    raise DriverException\", \"class DriverException(Exception):\\n    pass\\n\\npeople = [('James', 17), ('Kirk', 9), ('Lars', 13), ('Robert', 8)]\\ndriver = None\\n\\nfor person, age in people:\\n    if age >= 18:\\n        driver = (person, age)\\n        break\\nelse:\\n \", '# primes_optimized.py\\nprimes = []\\nupto = 100\\n\\nfor n in range(2, upto + 1):\\n    is_prime = True\\n    for divisor in range(2, int(n**0.5) + 1):  # Optimized the divisor range\\n        if n % divisor == 0:\\n            is_prime = False\\n            break\\n    if is_prime:\\n        primes.append(n)\\n\\nprint(primes)\\nCambios realizados y mejoras:\\n\\nSe ha optimizado el rango de los divisores en el bucle interno. En lugar de verificar divisores hasta n-1, solo necesitas verificar hasta la raíz cuadrada de n (int(n**0.5) + 1). Esto reduce significativamente el número de divisiones que deben realizarse.\\n\\nSe ha vuelto a introducir la variable is_prime para mantener un seguimiento claro de si n es primo o no.\\n\\nEste código es más eficiente y sigue siendo fácil de entender. Proporcionará la lista de números primos en el rango especificado.\\n\\n\\n\\n\\n\\n\\n ', '# primes_optimized.py\\nprimes = []\\nupto = 100\\n\\nfor n in range(2, upto + 1):\\n    is_prime = True\\n    for divisor in range(2, int(n**0.5) + 1):  # Optimized the divisor range\\n        if n % divisor == 0:\\n            is_prime = False\\n            break\\n    if is_prime:\\n        primes.append(n)\\n\\nprint(primes)\\nCambios realizados y mejoras:\\n\\nSe ha optimizado el rango de los divisores en el bucle interno. En lugar de verificar divisores hasta n-1, solo necesitas verificar hasta la raíz cuadrada de n (int(n**0.5) + 1). Esto reduce significativamente el número de divisiones que deben realizarse.\\n\\nSe ha vuelto a introducir la variable is_prime para mantener un seguimiento claro de si n es primo o no.\\n\\nEste código es más eficiente y sigue siendo fácil de entender. Proporcionará la lista de números primos en el rango especificado.\\n\\n\\n\\n\\n\\n\\n ', '# primes_optimized.py\\nprimes = []\\nupto = 100\\n\\nfor n in range(2, upto + 1):\\n    is_prime = True\\n    for divisor in range(2, int(n**0.5) + 1):  # Optimized the divisor range\\n        if n % divisor == 0:\\n            is_prime = False\\n            break\\n    if is_prime:\\n        primes.append(n)\\n\\nprint(primes)\\nCambios realizados y mejoras:\\n\\nSe ha optimizado el rango de los divisores en el bucle interno. En lugar de verificar divisores hasta n-1, solo necesitas verificar hasta la raíz cuadrada de n (int(n**0.5) + 1). Esto reduce significativamente el número de divisiones que deben realizarse.\\n\\nSe ha vuelto a introducir la variable is_prime para mantener un seguimiento claro de si n es primo o no.\\n\\nEste código es más eficiente y sigue siendo fácil de entender. Proporcionará la lista de números primos en el rango especificado.', \"# coupons_optimized.py\\ncustomers = [\\n    {'id': 1, 'total': 200, 'coupon_code': 'F20'},  # F20: fixed, £20\\n    {'id': 2, 'total': 150, 'coupon_code': 'P30'},  # P30: percent, 30%\\n    {'id': 3, 'total': 100, 'coupon_code': 'P50'},  # P50: percent, 50%\\n    {'id': 4, 'total': 110, 'coupon_code': 'F15'},  # F15: fixed, £15\\n]\\n\\ndiscounts = {\\n    'F20': (0.0, 20.0),  # (percent, fixed)\\n    'P30': (0.3, 0.0),\\n    'P50': (0.5, 0.0),\\n    'F15': (0.0, 15.0),\\n}\\n\\nfor customer in customers:\\n    code = customer['coupon_code']\\n    percent, fixed = discounts.get(code, (0.0, 0.0))\\n    customer['discount'] = percent * customer['total'] + fixed\\n\\nfor customer in customers:\\n    print(customer['id'], customer['total'], customer['discount'])\", \"# parameters.defaults.mutable.fixed.py\\ndef func(a=None, b=None):\\n    if a is None:\\n        a = []\\n    if b is None:\\n        b = {}\\n    print(a)\\n    print(b)\\n    print('#' * 12)\\n    a.append(len(a))\\n    b[len(a)] = len(a)\\n\\nfunc()\\nfunc()\\nfunc()\", 'def multiplication(a, b=1):\\n    \"\"\"Return a multiplied by b. \"\"\"\\n    return a * b\\n\\nspecial_attributes = [\\n    \"__doc__\", \"__name__\", \"__qualname__\", \"__module__\",\\n    \"__defaults__\", \"__code__\", \"__globals__\", \"__dict__\",\\n    \"__closure__\", \"__annotations__\", \"__kwdefaults__\",\\n]\\n\\nfor attribute in special_attributes:\\n    print(attribute, \\'->\\', getattr(multiplication, attribute))'], '_oh': {}, '_dh': ['/content'], 'In': ['', '# @title Texto de título predeterminado', 'n = 3 # integer number\\naddress = \"221b Baker Street, NW1 6XE, London\" # Sherlock Holmes\\'\\naddress\\nemployee = {\\n... \\'age\\': 45,\\n... \\'role\\': \\'CTO\\',\\n... \\'SSN\\': \\'AB1234567\\',\\n... }\\n# let\\'s print them\\nn\\n3\\naddress\\n\\'221b Baker Street, NW1 6XE, London\\'\\nemployee\\n{\\'age\\': 45, \\'role\\': \\'CTO\\', \\'SSN\\': \\'AB1234567\\'}\\n>>> other_name\\nTraceback (most recent call last):\\nFile \"<stdin>\", line 1, in <module>\\nNameError: name \\'other_name\\'\\xa0is\\xa0not\\xa0defined', 'n = 3 # integer number\\naddress = \"221b Baker Street, NW1 6XE, London\" # Sherlock Holmes\\'\\naddress\\nemployee = {\\n\\'age\\': 45,\\n\\'role\\': \\'CTO\\',\\n\\'SSN\\': \\'AB1234567\\',\\n}\\n# let\\'s print them\\nn\\naddress\\nemployee\\n>>> other_name', 'n = 3 # integer number\\naddress = \"221b Baker Street, NW1 6XE, London\" # Sherlock Holmes\\'\\nemployee = {\\n    \\'age\\': 45,\\n    \\'role\\': \\'CTO\\',\\n    \\'SSN\\': \\'AB1234567\\',\\n}\\n# let\\'s print them \\nprint(n)\\nprint(address)\\nprint(employee)\\nprint(other_name)', 'n = 3 # integer number\\naddress = \"221b Baker Street, NW1 6XE, London\" # Sherlock Holmes\\'\\nemployee = {\\n    \\'age\\': 45,\\n    \\'role\\': \\'CTO\\',\\n    \\'SSN\\': \\'AB1234567\\',\\n}\\n# let\\'s print them \\nprint(n)\\nprint(address)\\nprint(employee)\\nprint(other_name)', 'n = 3  # Número entero\\naddress = \"221b Baker Street, NW1 6XE, London\"  # Dirección de Sherlock Holmes\\nemployee = {\\n    \\'age\\': 45,\\n    \\'role\\': \\'CTO\\',\\n    \\'SSN\\': \\'AB1234567\\',\\n}\\n\\n# Definir la variable \\'other_name\\'\\nother_name = \"John Doe\"\\n\\n# Imprimir las variables\\nprint(n)\\nprint(address)\\nprint(employee)\\nprint(other_name)', '# bike.py\\n# Let\\'s define the class Bike\\nclass Bike:\\n    def __init__(self, colour, frame_material):\\n        self.colour = colour\\n        self.frame_material = frame_material\\n\\n    def brake(self):\\n        print(\"Braking!\")\\n\\n# Let\\'s create a couple of instances\\nred_bike = Bike(\\'Red\\', \\'Carbon fiber\\')\\nblue_bike = Bike(\\'Blue\\', \\'Steel\\')\\n\\n# Let\\'s inspect the objects we have, instances of the Bike class.\\nprint(red_bike.colour)  # prints: Red\\nprint(red_bike.frame_material)  # prints: Carbon fiber\\nprint(blue_bike.colour)  # prints: Blue\\nprint(blue_bike.frame_material)  # prints: Steel\\n\\n# Let\\'s brake!\\nred_bike.brake()  # prints: Braking!', '# bike.py\\n# Let\\'s define the class Bike\\nclass Bike:\\n    def __init__(self, colour, frame_material):\\n        self.colour = colour\\n        self.frame_material = frame_material\\n\\n    def brake(self):\\n        print(\"Braking!\")\\n\\n# Let\\'s create a couple of instances\\nred_bike = Bike(\\'Red\\', \\'Carbon fiber\\')\\nblue_bike = Bike(\\'Blue\\', \\'Steel\\')\\n\\n# Let\\'s inspect the objects we have, instances of the Bike class.\\nprint(red_bike.colour)  # prints: Red\\nprint(red_bike.frame_material)  # prints: Carbon fiber\\nprint(blue_bike.colour)  # prints: Blue\\nprint(blue_bike.frame_material)  # prints: Steel\\n\\n# Let\\'s brake!\\nred_bike.brake()  # prints: Braking!', \"# scopes1.py\\n# Local versus Global\\n\\n# Definimos una función llamada local\\ndef local():\\n    m = 7\\n    print(m)\\n\\n# Definimos 'm' en el ámbito global\\nm = 5\\n\\n# Llamamos a la función 'local'\\nlocal()\\n\\n# Imprimimos el valor de 'm' en el ámbito global\\nprint(m)\", \"# Ejemplo de objetos mutables e inmutables en Python\\n\\n# Creamos una variable 'age' que es un objeto inmutable (int)\\nage = 42\\n\\n# Imprimimos el valor de 'age'\\nprint(age)  # Output: 42\\n\\n# En la siguiente línea, no estamos cambiando el valor de 'age',\\n# estamos creando un nuevo objeto 'int' con valor 43 y haciendo que 'age' apunte a él\\nage = 43\\n\\n# Imprimimos el nuevo valor de 'age'\\nprint(age)  # Output: 43\\n\\n# Imprimimos los IDs de los objetos 'age' antes y después del cambio\\nprint(id(age))  # ID antes del cambio\\nage = 43  # Revertimos a 43\\nprint(id(age))  # ID después del cambio\\n\\n# Creamos una clase 'Person' (ignorando la declaración de clase por ahora)\\nclass Person:\\n    def __init__(self, age):\\n        self.age = age\\n\\n# Creamos una instancia 'fab' de la clase 'Person' con una edad inicial de 42\\nfab = Person(age=42)\\n\\n# Imprimimos la edad de 'fab'\\nprint(fab.age)  # Output: 42\\n\\n# Imprimimos el ID de 'fab' y el ID de 'fab.age'\\nprint(id(fab))  # ID de 'fab'\\nprint(id(fab.age))  # ID de 'fab.age'\\n\\n# Cambiamos la edad de 'fab'\\nfab.age = 25\\n\\n# Imprimimos el ID de 'fab' (que sigue siendo el mismo) y el ID de 'fab.age' (que ha cambiado)\\nprint(id(fab))  # ID de 'fab' sigue siendo el mismo\\nprint(id(fab.age))  # ID de 'fab.age' ha cambiado\", '# Ejemplo de operaciones y funciones relacionadas con números enteros en Python\\n\\n# Ejemplo de operaciones aritméticas básicas\\na = 14\\nb = 3\\nprint(a + b)  # Suma\\nprint(a - b)  # Resta\\nprint(a * b)  # Multiplicación\\nprint(a / b)  # División real\\nprint(a // b)  # División entera\\nprint(a % b)  # Operación módulo (resto de la división)\\nprint(a ** b)  # Operación de potencia\\n\\n# Ejemplo de divisiones con números negativos\\nprint(7 / 4)  # División real\\nprint(7 // 4)  # División entera\\nprint(-7 / 4)  # División real con número negativo\\nprint(-7 // 4)  # División entera con número negativo\\n\\n# Ejemplo de truncación de números a enteros usando la función int()\\nprint(int(1.75))\\nprint(int(-1.75))\\n\\n# Ejemplo del operador de potencia ** y la función pow()\\nprint(pow(10, 3))\\nprint(10 ** 3)\\nprint(pow(10, -3))\\nprint(10 ** -3)\\n\\n# Ejemplo del operador de módulo (%)\\nprint(10 % 3)\\nprint(10 % 4)\\n\\n# Ejemplo de uso de la función pow() con tres argumentos\\nprint(pow(123, 4))\\nprint(pow(123, 4, 100))\\nprint(pow(37, -1, 43))\\nprint(7 * 37 % 43)\\n\\n# Ejemplo de uso de guiones bajos en números literales\\nn = 1_024\\nprint(n)\\nhex_n = 0x_4_0_0\\nprint(hex_n)', '# Ejemplo de valores booleanos y operaciones en Python\\n\\n# True y False son palabras clave que representan los valores verdadero y falso\\n# Se comportan como 1 y 0 respectivamente\\nprint(int(True))  # True se comporta como 1\\nprint(int(False))  # False se comporta como 0\\n\\n# La clase equivalente de int para booleanos es bool, que devuelve True o False\\n# Cualquier objeto incorporado de Python tiene un valor en el contexto booleano,\\n# lo que significa que básicamente se evalúan como True o False cuando se pasan\\n# a la función bool.\\nprint(bool(1))  # 1 se evalúa como True en contexto booleano\\nprint(bool(-42))  # Cualquier número no cero se evalúa como True\\nprint(bool(0))  # 0 se evalúa como False\\n\\n# Ejemplos de operadores lógicos (and, or, not)\\nprint(not True)\\nprint(not False)\\nprint(True and True)\\nprint(False or True)\\n\\n# True y False se pueden utilizar en operaciones aritméticas\\n# Se convierten automáticamente en enteros y se realizan las operaciones\\nprint(1 + True)  # 1 + 1 = 2\\nprint(False + 42)  # 0 + 42 = 42\\nprint(7 - True)  # 7 - 1 = 6', '# Ejemplo de valores booleanos y operaciones en Python\\n\\n# True y False son palabras clave que representan los valores verdadero y falso\\n# Se comportan como 1 y 0 respectivamente\\nprint(int(True))  # True se comporta como 1\\nprint(int(False))  # False se comporta como 0\\n\\n# La clase equivalente de int para booleanos es bool, que devuelve True o False\\n# Cualquier objeto incorporado de Python tiene un valor en el contexto booleano,\\n# lo que significa que básicamente se evalúan como True o False cuando se pasan\\n# a la función bool.\\nprint(bool(1))  # 1 se evalúa como True en contexto booleano\\nprint(bool(-42))  # Cualquier número no cero se evalúa como True\\nprint(bool(0))  # 0 se evalúa como False\\n\\n# Ejemplos de operadores lógicos (and, or, not)\\nprint(not True)\\nprint(not False)\\nprint(True and True)\\nprint(False or True)\\n\\n# True y False se pueden utilizar en operaciones aritméticas\\n# Se convierten automáticamente en enteros y se realizan las operaciones\\nprint(1 + True)  # 1 + 1 = 2\\nprint(False + 42)  # 0 + 42 = 42\\nprint(7 - True)  # 7 - 1 = 6', '# Ejemplo de números de punto flotante en Python\\n\\n# En Python, los números de punto flotante se representan según el formato binario de punto flotante\\n# de doble precisión IEEE 754, que se almacena en 64 bits de información divididos en tres secciones: signo, exponente y mantisa.\\n\\n# Upcasting es una operación de conversión de tipo que va de una subclase a su clase padre.\\n# En este ejemplo, True y False, que pertenecen a una clase derivada de la clase entera, se convierten de nuevo en enteros cuando es necesario.\\n# Este tema trata sobre la herencia y se explicará en detalle en el Capítulo 6, OOP, Decorators, and Iterators.\\n\\n# Más información sobre este formato en Wikipedia:\\n# http://en.wikipedia.org/wiki/Double-precision_\\n# floating-point_format.\\n\\n# Python solo admite el formato de doble precisión. Veamos un ejemplo simple:\\n\\npi = 3.1415926536 # ¿Cuántos dígitos de PI puedes recordar?\\nradius = 4.5\\narea = pi * (radius ** 2)\\nprint(area)  # Imprime el área calculada\\n\\n# sys.float_info contiene información sobre cómo se comportarán los números de punto flotante en su sistema.\\n# Este es un ejemplo de lo que podría ver:\\n\\nimport sys\\nprint(sys.float_info)\\n\\n# Consideraciones sobre la precisión de los números de punto flotante en Python.\\n# Los números de punto flotante de doble precisión sufren problemas de aproximación incluso\\n# cuando se trata de números simples como 0.1 o 0.3.\\n\\nresult = 0.3 - 0.1 * 3\\nprint(result)  # Esto debería ser 0, pero obtiene una pequeña aproximación.\\n\\n# En el cálculo del área, hemos envuelto radius ** 2 entre paréntesis.\\n# Aunque eso no era necesario porque el operador de potencia tiene una precedencia mayor que el de multiplicación,\\n# creemos que la fórmula se lee más fácilmente de esa manera.\\n# Además, si obtiene un resultado ligeramente diferente para el área, no se preocupe.\\n# Puede depender de su sistema operativo, cómo se compiló Python, y así sucesivamente.\\n# Mientras que las primeras cifras decimales sean correctas, sabe que es un resultado correcto.\\n\\n# Esto resalta la importancia de la precisión al manejar números de punto flotante,\\n# especialmente en casos como precios o cálculos financieros.\\n# Python ofrece el tipo Decimal, que no sufre de estos problemas; lo veremos en un momento.', '# Ejemplo de números complejos en Python\\n\\n# Python proporciona soporte para números complejos de forma nativa.\\n# Los números complejos se pueden expresar en la forma a + ib,\\n# donde a y b son números reales, e i (o j si eres ingeniero) es la unidad imaginaria;\\n# es decir, la raíz cuadrada de -1. a y b se llaman, respectivamente, la parte real e imaginaria del número.\\n\\n# Es poco probable que los uses a menos que estés programando algo científico.\\n# Sin embargo, veamos un pequeño ejemplo:\\n\\nc = 3.14 + 2.73j\\nprint(c)  # Imprime el número complejo\\n\\n# También puedes crear números complejos utilizando la función complex():\\n\\nc = complex(3.14, 2.73)\\nprint(c)  # Imprime el número complejo\\n\\n# Puedes acceder a la parte real e imaginaria de un número complejo:\\n\\nreal_part = c.real\\nimaginary_part = c.imag\\nprint(real_part)  # Imprime la parte real\\nprint(imaginary_part)  # Imprime la parte imaginaria\\n\\n# Calcula el conjugado de un número complejo:\\n\\nconjugate = c.conjugate()\\nprint(conjugate)  # Imprime el conjugado\\n\\n# Realiza operaciones matemáticas con números complejos, como la multiplicación y la potenciación:\\n\\nmultiplication = c * 2\\nprint(multiplication)  # Imprime el resultado de la multiplicación\\n\\npower = c ** 2\\nprint(power)  # Imprime el resultado de la potenciación\\n\\n# También puedes realizar operaciones de suma y resta con números complejos:\\n\\nd = 1 + 1j\\nsubtraction = c - d\\nprint(subtraction)  # Imprime el resultado de la resta', \"from fractions import Fraction\\n\\n# Crear una fracción\\nfrac = Fraction(10, 6)\\nprint(frac)  # Resultado: 5/3\\n\\n# Operaciones con fracciones\\nfrac_sum = Fraction(1, 3) + Fraction(2, 3)\\nprint(frac_sum)  # Resultado: 1\\n\\n# Acceder a partes de una fracción\\nfrac = Fraction(10, 6)\\nprint(frac.numerator)  # Numerador: 5\\nprint(frac.denominator)  # Denominador: 3\\nprint(frac.as_integer_ratio())  # Relación como número entero: (5, 3)\\n\\n# Uso de números decimales\\nfrom decimal import Decimal as D\\n\\n# Crear un número decimal\\npi_approx = D(3.14)\\nprint(pi_approx)  # Resultado: 3.140000000000000124344978758017532527446746826171875\\n\\n# Operaciones con números decimales\\nresult = D('0.1') * D(3) - D('0.3')\\nprint(result)  # Resultado: 0.0\\n\\n# Obtener relación de número decimal como número entero\\ndecimal_frac = D('1.4').as_integer_ratio()\\nprint(decimal_frac)  # Resultado: (7, 5)\", \"from fractions import Fraction\\n\\n# Crear una fracción\\nfrac = Fraction(10, 6)\\nprint(frac)  # Resultado: 5/3\\n\\n# Operaciones con fracciones\\nfrac_sum = Fraction(1, 3) + Fraction(2, 3)\\nprint(frac_sum)  # Resultado: 1\\n\\n# Acceder a partes de una fracción\\nfrac = Fraction(10, 6)\\nprint(frac.numerator)  # Numerador: 5\\nprint(frac.denominator)  # Denominador: 3\\nprint(frac.as_integer_ratio())  # Relación como número entero: (5, 3)\\n\\n# Uso de números decimales\\nfrom decimal import Decimal as D\\n\\n# Crear un número decimal\\npi_approx = D(3.14)\\nprint(pi_approx)  # Resultado: 3.140000000000000124344978758017532527446746826171875\\n\\n# Operaciones con números decimales\\nresult = D('0.1') * D(3) - D('0.3')\\nprint(result)  # Resultado: 0.0\\n\\n# Obtener relación de número decimal como número entero\\ndecimal_frac = D('1.4').as_integer_ratio()\\nprint(decimal_frac)  # Resultado: (7, 5)\", \"from collections import defaultdict\\n\\n# Create a defaultdict with int as the default value type (0 by default)\\ndd = defaultdict(int)\\n\\n# Increase the 'age' key by 1\\ndd['age'] += 1\\n\\n# Now, 'age' is automatically created with a default value of 0\\nprint(dd['age'])  # Output: 1\", \"class DriverException(Exception):\\n    pass\\n\\npeople = [('James', 17), ('Kirk', 9), ('Lars', 13), ('Robert', 8)]\\ndriver = None\\n\\nfor person, age in people:\\n    if age >= 18:\\n        driver = (person, age)\\n        break\\nelse:\\n    raise DriverException('Driver not found.')\", \"class DriverException(Exception):\\n    pass\\n\\npeople = [('James', 17), ('Kirk', 9), ('Lars', 13), ('Robert', 8)]\\ndriver = None\\n\\nfor person, age in people:\\n    if age >= 18:\\n        driver = (person, age)\\n        break\\nelse:\\n    raise DriverException('Driver not found.')\", \"class DriverException(Exception):\\n    pass\\n\\npeople = [('James', 17), ('Kirk', 9), ('Lars', 13), ('Robert', 8)]\\ndriver = None\\n\\nfor person, age in people:\\n    if age >= 18:\\n        driver = (person, age)\\n        break\\nelse:\\n    raise DriverException\", \"class DriverException(Exception):\\n    pass\\n\\npeople = [('James', 17), ('Kirk', 9), ('Lars', 13), ('Robert', 8)]\\ndriver = None\\n\\nfor person, age in people:\\n    if age >= 18:\\n        driver = (person, age)\\n        break\\nelse:\\n \", '# primes_optimized.py\\nprimes = []\\nupto = 100\\n\\nfor n in range(2, upto + 1):\\n    is_prime = True\\n    for divisor in range(2, int(n**0.5) + 1):  # Optimized the divisor range\\n        if n % divisor == 0:\\n            is_prime = False\\n            break\\n    if is_prime:\\n        primes.append(n)\\n\\nprint(primes)\\nCambios realizados y mejoras:\\n\\nSe ha optimizado el rango de los divisores en el bucle interno. En lugar de verificar divisores hasta n-1, solo necesitas verificar hasta la raíz cuadrada de n (int(n**0.5) + 1). Esto reduce significativamente el número de divisiones que deben realizarse.\\n\\nSe ha vuelto a introducir la variable is_prime para mantener un seguimiento claro de si n es primo o no.\\n\\nEste código es más eficiente y sigue siendo fácil de entender. Proporcionará la lista de números primos en el rango especificado.\\n\\n\\n\\n\\n\\n\\n ', '# primes_optimized.py\\nprimes = []\\nupto = 100\\n\\nfor n in range(2, upto + 1):\\n    is_prime = True\\n    for divisor in range(2, int(n**0.5) + 1):  # Optimized the divisor range\\n        if n % divisor == 0:\\n            is_prime = False\\n            break\\n    if is_prime:\\n        primes.append(n)\\n\\nprint(primes)\\nCambios realizados y mejoras:\\n\\nSe ha optimizado el rango de los divisores en el bucle interno. En lugar de verificar divisores hasta n-1, solo necesitas verificar hasta la raíz cuadrada de n (int(n**0.5) + 1). Esto reduce significativamente el número de divisiones que deben realizarse.\\n\\nSe ha vuelto a introducir la variable is_prime para mantener un seguimiento claro de si n es primo o no.\\n\\nEste código es más eficiente y sigue siendo fácil de entender. Proporcionará la lista de números primos en el rango especificado.\\n\\n\\n\\n\\n\\n\\n ', '# primes_optimized.py\\nprimes = []\\nupto = 100\\n\\nfor n in range(2, upto + 1):\\n    is_prime = True\\n    for divisor in range(2, int(n**0.5) + 1):  # Optimized the divisor range\\n        if n % divisor == 0:\\n            is_prime = False\\n            break\\n    if is_prime:\\n        primes.append(n)\\n\\nprint(primes)\\nCambios realizados y mejoras:\\n\\nSe ha optimizado el rango de los divisores en el bucle interno. En lugar de verificar divisores hasta n-1, solo necesitas verificar hasta la raíz cuadrada de n (int(n**0.5) + 1). Esto reduce significativamente el número de divisiones que deben realizarse.\\n\\nSe ha vuelto a introducir la variable is_prime para mantener un seguimiento claro de si n es primo o no.\\n\\nEste código es más eficiente y sigue siendo fácil de entender. Proporcionará la lista de números primos en el rango especificado.', \"# coupons_optimized.py\\ncustomers = [\\n    {'id': 1, 'total': 200, 'coupon_code': 'F20'},  # F20: fixed, £20\\n    {'id': 2, 'total': 150, 'coupon_code': 'P30'},  # P30: percent, 30%\\n    {'id': 3, 'total': 100, 'coupon_code': 'P50'},  # P50: percent, 50%\\n    {'id': 4, 'total': 110, 'coupon_code': 'F15'},  # F15: fixed, £15\\n]\\n\\ndiscounts = {\\n    'F20': (0.0, 20.0),  # (percent, fixed)\\n    'P30': (0.3, 0.0),\\n    'P50': (0.5, 0.0),\\n    'F15': (0.0, 15.0),\\n}\\n\\nfor customer in customers:\\n    code = customer['coupon_code']\\n    percent, fixed = discounts.get(code, (0.0, 0.0))\\n    customer['discount'] = percent * customer['total'] + fixed\\n\\nfor customer in customers:\\n    print(customer['id'], customer['total'], customer['discount'])\", \"# parameters.defaults.mutable.fixed.py\\ndef func(a=None, b=None):\\n    if a is None:\\n        a = []\\n    if b is None:\\n        b = {}\\n    print(a)\\n    print(b)\\n    print('#' * 12)\\n    a.append(len(a))\\n    b[len(a)] = len(a)\\n\\nfunc()\\nfunc()\\nfunc()\", 'def multiplication(a, b=1):\\n    \"\"\"Return a multiplied by b. \"\"\"\\n    return a * b\\n\\nspecial_attributes = [\\n    \"__doc__\", \"__name__\", \"__qualname__\", \"__module__\",\\n    \"__defaults__\", \"__code__\", \"__globals__\", \"__dict__\",\\n    \"__closure__\", \"__annotations__\", \"__kwdefaults__\",\\n]\\n\\nfor attribute in special_attributes:\\n    print(attribute, \\'->\\', getattr(multiplication, attribute))'], 'Out': {}, 'get_ipython': <bound method InteractiveShell.get_ipython of <google.colab._shell.Shell object at 0x78ade2a16140>>, 'exit': <IPython.core.autocall.ZMQExitAutocall object at 0x78ade2a166e0>, 'quit': <IPython.core.autocall.ZMQExitAutocall object at 0x78ade2a166e0>, '_': '', '__': '', '___': '', '_i': \"# parameters.defaults.mutable.fixed.py\\ndef func(a=None, b=None):\\n    if a is None:\\n        a = []\\n    if b is None:\\n        b = {}\\n    print(a)\\n    print(b)\\n    print('#' * 12)\\n    a.append(len(a))\\n    b[len(a)] = len(a)\\n\\nfunc()\\nfunc()\\nfunc()\", '_ii': \"# coupons_optimized.py\\ncustomers = [\\n    {'id': 1, 'total': 200, 'coupon_code': 'F20'},  # F20: fixed, £20\\n    {'id': 2, 'total': 150, 'coupon_code': 'P30'},  # P30: percent, 30%\\n    {'id': 3, 'total': 100, 'coupon_code': 'P50'},  # P50: percent, 50%\\n    {'id': 4, 'total': 110, 'coupon_code': 'F15'},  # F15: fixed, £15\\n]\\n\\ndiscounts = {\\n    'F20': (0.0, 20.0),  # (percent, fixed)\\n    'P30': (0.3, 0.0),\\n    'P50': (0.5, 0.0),\\n    'F15': (0.0, 15.0),\\n}\\n\\nfor customer in customers:\\n    code = customer['coupon_code']\\n    percent, fixed = discounts.get(code, (0.0, 0.0))\\n    customer['discount'] = percent * customer['total'] + fixed\\n\\nfor customer in customers:\\n    print(customer['id'], customer['total'], customer['discount'])\", '_iii': '# primes_optimized.py\\nprimes = []\\nupto = 100\\n\\nfor n in range(2, upto + 1):\\n    is_prime = True\\n    for divisor in range(2, int(n**0.5) + 1):  # Optimized the divisor range\\n        if n % divisor == 0:\\n            is_prime = False\\n            break\\n    if is_prime:\\n        primes.append(n)\\n\\nprint(primes)\\nCambios realizados y mejoras:\\n\\nSe ha optimizado el rango de los divisores en el bucle interno. En lugar de verificar divisores hasta n-1, solo necesitas verificar hasta la raíz cuadrada de n (int(n**0.5) + 1). Esto reduce significativamente el número de divisiones que deben realizarse.\\n\\nSe ha vuelto a introducir la variable is_prime para mantener un seguimiento claro de si n es primo o no.\\n\\nEste código es más eficiente y sigue siendo fácil de entender. Proporcionará la lista de números primos en el rango especificado.', '_i1': '# @title Texto de título predeterminado', '_i2': ' n = 3 # integer number\\n address = \"221b Baker Street, NW1 6XE, London\" # Sherlock Holmes\\'\\naddress\\nemployee = {\\n... \\'age\\': 45,\\n... \\'role\\': \\'CTO\\',\\n... \\'SSN\\': \\'AB1234567\\',\\n... }\\n # let\\'s print them\\n n\\n3\\naddress\\n\\'221b Baker Street, NW1 6XE, London\\'\\n employee\\n{\\'age\\': 45, \\'role\\': \\'CTO\\', \\'SSN\\': \\'AB1234567\\'}\\n>>> other_name\\nTraceback (most recent call last):\\nFile \"<stdin>\", line 1, in <module>\\nNameError: name \\'other_name\\'\\xa0is\\xa0not\\xa0defined', '_i3': ' n = 3 # integer number\\n address = \"221b Baker Street, NW1 6XE, London\" # Sherlock Holmes\\'\\naddress\\nemployee = {\\n \\'age\\': 45,\\n \\'role\\': \\'CTO\\',\\n\\'SSN\\': \\'AB1234567\\',\\n}\\n # let\\'s print them\\n n\\naddress\\n employee\\n>>> other_name', '_i4': ' n = 3 # integer number\\naddress = \"221b Baker Street, NW1 6XE, London\" # Sherlock Holmes\\'\\nemployee = {\\n     \\'age\\': 45,\\n     \\'role\\': \\'CTO\\',\\n     \\'SSN\\': \\'AB1234567\\',\\n}\\n# let\\'s print them \\nprint(n)\\nprint(address)\\nprint(employee)\\nprint(other_name)', 'n': 1024, 'address': '221b Baker Street, NW1 6XE, London', 'employee': {'age': 45, 'role': 'CTO', 'SSN': 'AB1234567'}, '_i5': ' n = 3 # integer number\\naddress = \"221b Baker Street, NW1 6XE, London\" # Sherlock Holmes\\'\\nemployee = {\\n     \\'age\\': 45,\\n     \\'role\\': \\'CTO\\',\\n     \\'SSN\\': \\'AB1234567\\',\\n}\\n# let\\'s print them \\nprint(n)\\nprint(address)\\nprint(employee)\\nprint(other_name)', '_i6': 'n = 3  # Número entero\\naddress = \"221b Baker Street, NW1 6XE, London\"  # Dirección de Sherlock Holmes\\nemployee = {\\n    \\'age\\': 45,\\n    \\'role\\': \\'CTO\\',\\n    \\'SSN\\': \\'AB1234567\\',\\n}\\n\\n# Definir la variable \\'other_name\\'\\nother_name = \"John Doe\"\\n\\n# Imprimir las variables\\nprint(n)\\nprint(address)\\nprint(employee)\\nprint(other_name)', 'other_name': 'John Doe', '_i7': '# bike.py\\n# Let\\'s define the class Bike\\nclass Bike:\\n    def __init__(self, colour, frame_material):\\n        self.colour = colour\\n        self.frame_material = frame_material\\n\\n    def brake(self):\\n        print(\"Braking!\")\\n\\n# Let\\'s create a couple of instances\\nred_bike = Bike(\\'Red\\', \\'Carbon fiber\\')\\nblue_bike = Bike(\\'Blue\\', \\'Steel\\')\\n\\n# Let\\'s inspect the objects we have, instances of the Bike class.\\nprint(red_bike.colour)  # prints: Red\\nprint(red_bike.frame_material)  # prints: Carbon fiber\\nprint(blue_bike.colour)  # prints: Blue\\nprint(blue_bike.frame_material)  # prints: Steel\\n\\n# Let\\'s brake!\\nred_bike.brake()  # prints: Braking!', 'Bike': <class '__main__.Bike'>, 'red_bike': <__main__.Bike object at 0x78add14c36d0>, 'blue_bike': <__main__.Bike object at 0x78add14c3df0>, '_i8': '# bike.py\\n# Let\\'s define the class Bike\\nclass Bike:\\n    def __init__(self, colour, frame_material):\\n        self.colour = colour\\n        self.frame_material = frame_material\\n\\n    def brake(self):\\n        print(\"Braking!\")\\n\\n# Let\\'s create a couple of instances\\nred_bike = Bike(\\'Red\\', \\'Carbon fiber\\')\\nblue_bike = Bike(\\'Blue\\', \\'Steel\\')\\n\\n# Let\\'s inspect the objects we have, instances of the Bike class.\\nprint(red_bike.colour)  # prints: Red\\nprint(red_bike.frame_material)  # prints: Carbon fiber\\nprint(blue_bike.colour)  # prints: Blue\\nprint(blue_bike.frame_material)  # prints: Steel\\n\\n# Let\\'s brake!\\nred_bike.brake()  # prints: Braking!', '_i9': \"# scopes1.py\\n# Local versus Global\\n\\n# Definimos una función llamada local\\ndef local():\\n    m = 7\\n    print(m)\\n\\n# Definimos 'm' en el ámbito global\\nm = 5\\n\\n# Llamamos a la función 'local'\\nlocal()\\n\\n# Imprimimos el valor de 'm' en el ámbito global\\nprint(m)\", 'local': <function local at 0x78adc0e0d750>, 'm': 5, '_i10': \"# Ejemplo de objetos mutables e inmutables en Python\\n\\n# Creamos una variable 'age' que es un objeto inmutable (int)\\nage = 42\\n\\n# Imprimimos el valor de 'age'\\nprint(age)  # Output: 42\\n\\n# En la siguiente línea, no estamos cambiando el valor de 'age',\\n# estamos creando un nuevo objeto 'int' con valor 43 y haciendo que 'age' apunte a él\\nage = 43\\n\\n# Imprimimos el nuevo valor de 'age'\\nprint(age)  # Output: 43\\n\\n# Imprimimos los IDs de los objetos 'age' antes y después del cambio\\nprint(id(age))  # ID antes del cambio\\nage = 43  # Revertimos a 43\\nprint(id(age))  # ID después del cambio\\n\\n# Creamos una clase 'Person' (ignorando la declaración de clase por ahora)\\nclass Person:\\n    def __init__(self, age):\\n        self.age = age\\n\\n# Creamos una instancia 'fab' de la clase 'Person' con una edad inicial de 42\\nfab = Person(age=42)\\n\\n# Imprimimos la edad de 'fab'\\nprint(fab.age)  # Output: 42\\n\\n# Imprimimos el ID de 'fab' y el ID de 'fab.age'\\nprint(id(fab))  # ID de 'fab'\\nprint(id(fab.age))  # ID de 'fab.age'\\n\\n# Cambiamos la edad de 'fab'\\nfab.age = 25\\n\\n# Imprimimos el ID de 'fab' (que sigue siendo el mismo) y el ID de 'fab.age' (que ha cambiado)\\nprint(id(fab))  # ID de 'fab' sigue siendo el mismo\\nprint(id(fab.age))  # ID de 'fab.age' ha cambiado\", 'age': 8, 'Person': <class '__main__.Person'>, 'fab': <__main__.Person object at 0x78adc0f65480>, '_i11': '# Ejemplo de operaciones y funciones relacionadas con números enteros en Python\\n\\n# Ejemplo de operaciones aritméticas básicas\\na = 14\\nb = 3\\nprint(a + b)  # Suma\\nprint(a - b)  # Resta\\nprint(a * b)  # Multiplicación\\nprint(a / b)  # División real\\nprint(a // b)  # División entera\\nprint(a % b)  # Operación módulo (resto de la división)\\nprint(a ** b)  # Operación de potencia\\n\\n# Ejemplo de divisiones con números negativos\\nprint(7 / 4)  # División real\\nprint(7 // 4)  # División entera\\nprint(-7 / 4)  # División real con número negativo\\nprint(-7 // 4)  # División entera con número negativo\\n\\n# Ejemplo de truncación de números a enteros usando la función int()\\nprint(int(1.75))\\nprint(int(-1.75))\\n\\n# Ejemplo del operador de potencia ** y la función pow()\\nprint(pow(10, 3))\\nprint(10 ** 3)\\nprint(pow(10, -3))\\nprint(10 ** -3)\\n\\n# Ejemplo del operador de módulo (%)\\nprint(10 % 3)\\nprint(10 % 4)\\n\\n# Ejemplo de uso de la función pow() con tres argumentos\\nprint(pow(123, 4))\\nprint(pow(123, 4, 100))\\nprint(pow(37, -1, 43))\\nprint(7 * 37 % 43)\\n\\n# Ejemplo de uso de guiones bajos en números literales\\nn = 1_024\\nprint(n)\\nhex_n = 0x_4_0_0\\nprint(hex_n)', 'a': 14, 'b': 3, 'hex_n': 1024, '_i12': '# Ejemplo de valores booleanos y operaciones en Python\\n\\n# True y False son palabras clave que representan los valores verdadero y falso\\n# Se comportan como 1 y 0 respectivamente\\nprint(int(True))  # True se comporta como 1\\nprint(int(False))  # False se comporta como 0\\n\\n# La clase equivalente de int para booleanos es bool, que devuelve True o False\\n# Cualquier objeto incorporado de Python tiene un valor en el contexto booleano,\\n# lo que significa que básicamente se evalúan como True o False cuando se pasan\\n# a la función bool.\\nprint(bool(1))  # 1 se evalúa como True en contexto booleano\\nprint(bool(-42))  # Cualquier número no cero se evalúa como True\\nprint(bool(0))  # 0 se evalúa como False\\n\\n# Ejemplos de operadores lógicos (and, or, not)\\nprint(not True)\\nprint(not False)\\nprint(True and True)\\nprint(False or True)\\n\\n# True y False se pueden utilizar en operaciones aritméticas\\n# Se convierten automáticamente en enteros y se realizan las operaciones\\nprint(1 + True)  # 1 + 1 = 2\\nprint(False + 42)  # 0 + 42 = 42\\nprint(7 - True)  # 7 - 1 = 6', '_i13': '# Ejemplo de valores booleanos y operaciones en Python\\n\\n# True y False son palabras clave que representan los valores verdadero y falso\\n# Se comportan como 1 y 0 respectivamente\\nprint(int(True))  # True se comporta como 1\\nprint(int(False))  # False se comporta como 0\\n\\n# La clase equivalente de int para booleanos es bool, que devuelve True o False\\n# Cualquier objeto incorporado de Python tiene un valor en el contexto booleano,\\n# lo que significa que básicamente se evalúan como True o False cuando se pasan\\n# a la función bool.\\nprint(bool(1))  # 1 se evalúa como True en contexto booleano\\nprint(bool(-42))  # Cualquier número no cero se evalúa como True\\nprint(bool(0))  # 0 se evalúa como False\\n\\n# Ejemplos de operadores lógicos (and, or, not)\\nprint(not True)\\nprint(not False)\\nprint(True and True)\\nprint(False or True)\\n\\n# True y False se pueden utilizar en operaciones aritméticas\\n# Se convierten automáticamente en enteros y se realizan las operaciones\\nprint(1 + True)  # 1 + 1 = 2\\nprint(False + 42)  # 0 + 42 = 42\\nprint(7 - True)  # 7 - 1 = 6', '_i14': '# Ejemplo de números de punto flotante en Python\\n\\n# En Python, los números de punto flotante se representan según el formato binario de punto flotante\\n# de doble precisión IEEE 754, que se almacena en 64 bits de información divididos en tres secciones: signo, exponente y mantisa.\\n\\n# Upcasting es una operación de conversión de tipo que va de una subclase a su clase padre.\\n# En este ejemplo, True y False, que pertenecen a una clase derivada de la clase entera, se convierten de nuevo en enteros cuando es necesario.\\n# Este tema trata sobre la herencia y se explicará en detalle en el Capítulo 6, OOP, Decorators, and Iterators.\\n\\n# Más información sobre este formato en Wikipedia:\\n# http://en.wikipedia.org/wiki/Double-precision_\\n# floating-point_format.\\n\\n# Python solo admite el formato de doble precisión. Veamos un ejemplo simple:\\n\\npi = 3.1415926536 # ¿Cuántos dígitos de PI puedes recordar?\\nradius = 4.5\\narea = pi * (radius ** 2)\\nprint(area)  # Imprime el área calculada\\n\\n# sys.float_info contiene información sobre cómo se comportarán los números de punto flotante en su sistema.\\n# Este es un ejemplo de lo que podría ver:\\n\\nimport sys\\nprint(sys.float_info)\\n\\n# Consideraciones sobre la precisión de los números de punto flotante en Python.\\n# Los números de punto flotante de doble precisión sufren problemas de aproximación incluso\\n# cuando se trata de números simples como 0.1 o 0.3.\\n\\nresult = 0.3 - 0.1 * 3\\nprint(result)  # Esto debería ser 0, pero obtiene una pequeña aproximación.\\n\\n# En el cálculo del área, hemos envuelto radius ** 2 entre paréntesis.\\n# Aunque eso no era necesario porque el operador de potencia tiene una precedencia mayor que el de multiplicación,\\n# creemos que la fórmula se lee más fácilmente de esa manera.\\n# Además, si obtiene un resultado ligeramente diferente para el área, no se preocupe.\\n# Puede depender de su sistema operativo, cómo se compiló Python, y así sucesivamente.\\n# Mientras que las primeras cifras decimales sean correctas, sabe que es un resultado correcto.\\n\\n# Esto resalta la importancia de la precisión al manejar números de punto flotante,\\n# especialmente en casos como precios o cálculos financieros.\\n# Python ofrece el tipo Decimal, que no sufre de estos problemas; lo veremos en un momento.', 'pi': 3.1415926536, 'radius': 4.5, 'area': 63.617251235400005, 'sys': <module 'sys' (built-in)>, 'result': Decimal('0.0'), '_i15': '# Ejemplo de números complejos en Python\\n\\n# Python proporciona soporte para números complejos de forma nativa.\\n# Los números complejos se pueden expresar en la forma a + ib,\\n# donde a y b son números reales, e i (o j si eres ingeniero) es la unidad imaginaria;\\n# es decir, la raíz cuadrada de -1. a y b se llaman, respectivamente, la parte real e imaginaria del número.\\n\\n# Es poco probable que los uses a menos que estés programando algo científico.\\n# Sin embargo, veamos un pequeño ejemplo:\\n\\nc = 3.14 + 2.73j\\nprint(c)  # Imprime el número complejo\\n\\n# También puedes crear números complejos utilizando la función complex():\\n\\nc = complex(3.14, 2.73)\\nprint(c)  # Imprime el número complejo\\n\\n# Puedes acceder a la parte real e imaginaria de un número complejo:\\n\\nreal_part = c.real\\nimaginary_part = c.imag\\nprint(real_part)  # Imprime la parte real\\nprint(imaginary_part)  # Imprime la parte imaginaria\\n\\n# Calcula el conjugado de un número complejo:\\n\\nconjugate = c.conjugate()\\nprint(conjugate)  # Imprime el conjugado\\n\\n# Realiza operaciones matemáticas con números complejos, como la multiplicación y la potenciación:\\n\\nmultiplication = c * 2\\nprint(multiplication)  # Imprime el resultado de la multiplicación\\n\\npower = c ** 2\\nprint(power)  # Imprime el resultado de la potenciación\\n\\n# También puedes realizar operaciones de suma y resta con números complejos:\\n\\nd = 1 + 1j\\nsubtraction = c - d\\nprint(subtraction)  # Imprime el resultado de la resta', 'c': (3.14+2.73j), 'real_part': 3.14, 'imaginary_part': 2.73, 'conjugate': (3.14-2.73j), 'multiplication': <function multiplication at 0x78adc0e39d80>, 'power': (2.4067000000000007+17.1444j), 'd': (1+1j), 'subtraction': (2.14+1.73j), '_i16': \"from fractions import Fraction\\n\\n# Crear una fracción\\nfrac = Fraction(10, 6)\\nprint(frac)  # Resultado: 5/3\\n\\n# Operaciones con fracciones\\nfrac_sum = Fraction(1, 3) + Fraction(2, 3)\\nprint(frac_sum)  # Resultado: 1\\n\\n# Acceder a partes de una fracción\\nfrac = Fraction(10, 6)\\nprint(frac.numerator)  # Numerador: 5\\nprint(frac.denominator)  # Denominador: 3\\nprint(frac.as_integer_ratio())  # Relación como número entero: (5, 3)\\n\\n# Uso de números decimales\\nfrom decimal import Decimal as D\\n\\n# Crear un número decimal\\npi_approx = D(3.14)\\nprint(pi_approx)  # Resultado: 3.140000000000000124344978758017532527446746826171875\\n\\n# Operaciones con números decimales\\nresult = D('0.1') * D(3) - D('0.3')\\nprint(result)  # Resultado: 0.0\\n\\n# Obtener relación de número decimal como número entero\\ndecimal_frac = D('1.4').as_integer_ratio()\\nprint(decimal_frac)  # Resultado: (7, 5)\", 'Fraction': <class 'fractions.Fraction'>, 'frac': Fraction(5, 3), 'frac_sum': Fraction(1, 1), 'D': <class 'decimal.Decimal'>, 'pi_approx': Decimal('3.140000000000000124344978758017532527446746826171875'), 'decimal_frac': (7, 5), '_i17': \"from fractions import Fraction\\n\\n# Crear una fracción\\nfrac = Fraction(10, 6)\\nprint(frac)  # Resultado: 5/3\\n\\n# Operaciones con fracciones\\nfrac_sum = Fraction(1, 3) + Fraction(2, 3)\\nprint(frac_sum)  # Resultado: 1\\n\\n# Acceder a partes de una fracción\\nfrac = Fraction(10, 6)\\nprint(frac.numerator)  # Numerador: 5\\nprint(frac.denominator)  # Denominador: 3\\nprint(frac.as_integer_ratio())  # Relación como número entero: (5, 3)\\n\\n# Uso de números decimales\\nfrom decimal import Decimal as D\\n\\n# Crear un número decimal\\npi_approx = D(3.14)\\nprint(pi_approx)  # Resultado: 3.140000000000000124344978758017532527446746826171875\\n\\n# Operaciones con números decimales\\nresult = D('0.1') * D(3) - D('0.3')\\nprint(result)  # Resultado: 0.0\\n\\n# Obtener relación de número decimal como número entero\\ndecimal_frac = D('1.4').as_integer_ratio()\\nprint(decimal_frac)  # Resultado: (7, 5)\", '_i18': \"from collections import defaultdict\\n\\n# Create a defaultdict with int as the default value type (0 by default)\\ndd = defaultdict(int)\\n\\n# Increase the 'age' key by 1\\ndd['age'] += 1\\n\\n# Now, 'age' is automatically created with a default value of 0\\nprint(dd['age'])  # Output: 1\", 'defaultdict': <class 'collections.defaultdict'>, 'dd': defaultdict(<class 'int'>, {'age': 1}), '_i19': \"class DriverException(Exception):\\n    pass\\n\\npeople = [('James', 17), ('Kirk', 9), ('Lars', 13), ('Robert', 8)]\\ndriver = None\\n\\nfor person, age in people:\\n    if age >= 18:\\n        driver = (person, age)\\n        break\\nelse:\\n    raise DriverException('Driver not found.')\", 'DriverException': <class '__main__.DriverException'>, 'people': [('James', 17), ('Kirk', 9), ('Lars', 13), ('Robert', 8)], 'driver': None, 'person': 'Robert', '_i20': \"class DriverException(Exception):\\n    pass\\n\\npeople = [('James', 17), ('Kirk', 9), ('Lars', 13), ('Robert', 8)]\\ndriver = None\\n\\nfor person, age in people:\\n    if age >= 18:\\n        driver = (person, age)\\n        break\\nelse:\\n    raise DriverException('Driver not found.')\", '_i21': \"class DriverException(Exception):\\n    pass\\n\\npeople = [('James', 17), ('Kirk', 9), ('Lars', 13), ('Robert', 8)]\\ndriver = None\\n\\nfor person, age in people:\\n    if age >= 18:\\n        driver = (person, age)\\n        break\\nelse:\\n    raise DriverException\", '_i22': \"class DriverException(Exception):\\n    pass\\n\\npeople = [('James', 17), ('Kirk', 9), ('Lars', 13), ('Robert', 8)]\\ndriver = None\\n\\nfor person, age in people:\\n    if age >= 18:\\n        driver = (person, age)\\n        break\\nelse:\\n \", '_i23': '# primes_optimized.py\\nprimes = []\\nupto = 100\\n\\nfor n in range(2, upto + 1):\\n    is_prime = True\\n    for divisor in range(2, int(n**0.5) + 1):  # Optimized the divisor range\\n        if n % divisor == 0:\\n            is_prime = False\\n            break\\n    if is_prime:\\n        primes.append(n)\\n\\nprint(primes)\\nCambios realizados y mejoras:\\n\\nSe ha optimizado el rango de los divisores en el bucle interno. En lugar de verificar divisores hasta n-1, solo necesitas verificar hasta la raíz cuadrada de n (int(n**0.5) + 1). Esto reduce significativamente el número de divisiones que deben realizarse.\\n\\nSe ha vuelto a introducir la variable is_prime para mantener un seguimiento claro de si n es primo o no.\\n\\nEste código es más eficiente y sigue siendo fácil de entender. Proporcionará la lista de números primos en el rango especificado.\\n\\n\\n\\n\\n\\n\\n ', '_i24': '# primes_optimized.py\\nprimes = []\\nupto = 100\\n\\nfor n in range(2, upto + 1):\\n    is_prime = True\\n    for divisor in range(2, int(n**0.5) + 1):  # Optimized the divisor range\\n        if n % divisor == 0:\\n            is_prime = False\\n            break\\n    if is_prime:\\n        primes.append(n)\\n\\nprint(primes)\\nCambios realizados y mejoras:\\n\\nSe ha optimizado el rango de los divisores en el bucle interno. En lugar de verificar divisores hasta n-1, solo necesitas verificar hasta la raíz cuadrada de n (int(n**0.5) + 1). Esto reduce significativamente el número de divisiones que deben realizarse.\\n\\nSe ha vuelto a introducir la variable is_prime para mantener un seguimiento claro de si n es primo o no.\\n\\nEste código es más eficiente y sigue siendo fácil de entender. Proporcionará la lista de números primos en el rango especificado.\\n\\n\\n\\n\\n\\n\\n ', '_i25': '# primes_optimized.py\\nprimes = []\\nupto = 100\\n\\nfor n in range(2, upto + 1):\\n    is_prime = True\\n    for divisor in range(2, int(n**0.5) + 1):  # Optimized the divisor range\\n        if n % divisor == 0:\\n            is_prime = False\\n            break\\n    if is_prime:\\n        primes.append(n)\\n\\nprint(primes)\\nCambios realizados y mejoras:\\n\\nSe ha optimizado el rango de los divisores en el bucle interno. En lugar de verificar divisores hasta n-1, solo necesitas verificar hasta la raíz cuadrada de n (int(n**0.5) + 1). Esto reduce significativamente el número de divisiones que deben realizarse.\\n\\nSe ha vuelto a introducir la variable is_prime para mantener un seguimiento claro de si n es primo o no.\\n\\nEste código es más eficiente y sigue siendo fácil de entender. Proporcionará la lista de números primos en el rango especificado.', '_i26': \"# coupons_optimized.py\\ncustomers = [\\n    {'id': 1, 'total': 200, 'coupon_code': 'F20'},  # F20: fixed, £20\\n    {'id': 2, 'total': 150, 'coupon_code': 'P30'},  # P30: percent, 30%\\n    {'id': 3, 'total': 100, 'coupon_code': 'P50'},  # P50: percent, 50%\\n    {'id': 4, 'total': 110, 'coupon_code': 'F15'},  # F15: fixed, £15\\n]\\n\\ndiscounts = {\\n    'F20': (0.0, 20.0),  # (percent, fixed)\\n    'P30': (0.3, 0.0),\\n    'P50': (0.5, 0.0),\\n    'F15': (0.0, 15.0),\\n}\\n\\nfor customer in customers:\\n    code = customer['coupon_code']\\n    percent, fixed = discounts.get(code, (0.0, 0.0))\\n    customer['discount'] = percent * customer['total'] + fixed\\n\\nfor customer in customers:\\n    print(customer['id'], customer['total'], customer['discount'])\", 'customers': [{'id': 1, 'total': 200, 'coupon_code': 'F20', 'discount': 20.0}, {'id': 2, 'total': 150, 'coupon_code': 'P30', 'discount': 45.0}, {'id': 3, 'total': 100, 'coupon_code': 'P50', 'discount': 50.0}, {'id': 4, 'total': 110, 'coupon_code': 'F15', 'discount': 15.0}], 'discounts': {'F20': (0.0, 20.0), 'P30': (0.3, 0.0), 'P50': (0.5, 0.0), 'F15': (0.0, 15.0)}, 'customer': {'id': 4, 'total': 110, 'coupon_code': 'F15', 'discount': 15.0}, 'code': 'F15', 'percent': 0.0, 'fixed': 15.0, '_i27': \"# parameters.defaults.mutable.fixed.py\\ndef func(a=None, b=None):\\n    if a is None:\\n        a = []\\n    if b is None:\\n        b = {}\\n    print(a)\\n    print(b)\\n    print('#' * 12)\\n    a.append(len(a))\\n    b[len(a)] = len(a)\\n\\nfunc()\\nfunc()\\nfunc()\", 'func': <function func at 0x78adc0e397e0>, '_i28': 'def multiplication(a, b=1):\\n    \"\"\"Return a multiplied by b. \"\"\"\\n    return a * b\\n\\nspecial_attributes = [\\n    \"__doc__\", \"__name__\", \"__qualname__\", \"__module__\",\\n    \"__defaults__\", \"__code__\", \"__globals__\", \"__dict__\",\\n    \"__closure__\", \"__annotations__\", \"__kwdefaults__\",\\n]\\n\\nfor attribute in special_attributes:\\n    print(attribute, \\'->\\', getattr(multiplication, attribute))', 'special_attributes': ['__doc__', '__name__', '__qualname__', '__module__', '__defaults__', '__code__', '__globals__', '__dict__', '__closure__', '__annotations__', '__kwdefaults__'], 'attribute': '__globals__'}\n",
            "__dict__ -> {}\n",
            "__closure__ -> None\n",
            "__annotations__ -> {}\n",
            "__kwdefaults__ -> None\n"
          ]
        }
      ]
    },
    {
      "cell_type": "markdown",
      "source": [
        "el código proporciona una visión general útil de cómo inspeccionar los atributos de una función en Python, lo que puede ser útil para fines de depuración, documentación y comprensión de las funciones definidas en un programa."
      ],
      "metadata": {
        "id": "VANl8Kiyp7QR"
      }
    },
    {
      "cell_type": "markdown",
      "source": [
        "# Nueva sección"
      ],
      "metadata": {
        "id": "FXnWhdijumi4"
      }
    },
    {
      "cell_type": "markdown",
      "source": [
        " nueva lista o diccionario en cada llamada a la función, evitando así los problemas relacionados con los valores predeterminados mutables."
      ],
      "metadata": {
        "id": "SZNWuvewot7Q"
      }
    },
    {
      "cell_type": "code",
      "source": [
        "# files/read_write_bin.py\n",
        "with open('example.bin', 'wb') as fw:\n",
        "    fw.write(b'This is binary data...')\n",
        "\n",
        "with open('example.bin', 'rb') as f:\n",
        "    print(f.read())  # prints: b'This is binary data...'"
      ],
      "metadata": {
        "colab": {
          "base_uri": "https://localhost:8080/"
        },
        "id": "OJAC3im-wbDQ",
        "outputId": "7829dcf0-a1d6-4790-a167-aa12b01bc659"
      },
      "execution_count": 31,
      "outputs": [
        {
          "output_type": "stream",
          "name": "stdout",
          "text": [
            "b'This is binary data...'\n"
          ]
        }
      ]
    },
    {
      "cell_type": "markdown",
      "source": [
        "Este código demuestra cómo abrir un archivo en modo binario usando las banderas 'wb' para escribir y 'rb' para leer"
      ],
      "metadata": {
        "id": "TYjTe2ikxLC-"
      }
    },
    {
      "cell_type": "code",
      "source": [
        "from pathlib import Path\n",
        "\n",
        "p = Path('fear.txt')\n",
        "path = p.parent.absolute()\n",
        "\n",
        "print(p.is_file())  # True\n",
        "print(path)  # /Users/fab/srv/lpp3e/ch08/files\n",
        "print(path.is_dir())  # True\n",
        "\n",
        "q = Path('/Users/fab/srv/lpp3e/ch08/files')\n",
        "print(q.is_dir())  # True"
      ],
      "metadata": {
        "colab": {
          "base_uri": "https://localhost:8080/"
        },
        "id": "0nxT0LNKxRrF",
        "outputId": "b6534435-1724-4be9-aa2c-dd806c4db998"
      },
      "execution_count": 33,
      "outputs": [
        {
          "output_type": "stream",
          "name": "stdout",
          "text": [
            "False\n",
            "/content\n",
            "True\n",
            "False\n"
          ]
        }
      ]
    },
    {
      "cell_type": "markdown",
      "source": [
        " El código ahora imprimirá los resultados de manera adecuada."
      ],
      "metadata": {
        "id": "bni7f8bhyT2I"
      }
    },
    {
      "cell_type": "code",
      "source": [
        "from pathlib import Path\n",
        "\n",
        "p = Path('fear.txt')\n",
        "print(p.absolute())  # /Users/fab/srv/lpp3e/ch08/files/fear.txt\n",
        "print(p.name)  # fear.txt\n",
        "print(p.parent.absolute())  # /Users/fab/srv/lpp3e/ch08/files\n",
        "print(p.suffix)  # .txt\n",
        "print(p.parts)  # ('fear.txt',)\n",
        "print(p.absolute().parts)  # ('/', 'Users', 'fab', 'srv', 'lpp3e', 'ch08', 'files', 'fear.txt')\n",
        "\n",
        "readme_path = p.parent / '..' / '..' / 'README.rst'\n",
        "print(readme_path.absolute())  # /Users/fab/srv/lpp3e/ch08/files/../../README.rst\n",
        "print(readme_path.resolve())  # /Users/fab/srv/lpp3e/README.rst"
      ],
      "metadata": {
        "colab": {
          "base_uri": "https://localhost:8080/"
        },
        "id": "bhVbrg82ySMt",
        "outputId": "d7c73a03-6ef9-45df-82cd-87e929bcf8dc"
      },
      "execution_count": 34,
      "outputs": [
        {
          "output_type": "stream",
          "name": "stdout",
          "text": [
            "/content/fear.txt\n",
            "fear.txt\n",
            "/content\n",
            ".txt\n",
            "('fear.txt',)\n",
            "('/', 'content', 'fear.txt')\n",
            "/content/../../README.rst\n",
            "/README.rst\n"
          ]
        }
      ]
    },
    {
      "cell_type": "markdown",
      "source": [
        "ajusté los comentarios antes de las líneas que imprimen los resultados para que reflejen correctamente la función que produce cada resultado. El código en sí mismo parece correcto y funcional.\n",
        "\n",
        "\n",
        "\n",
        "\n"
      ],
      "metadata": {
        "id": "3eEy_R6qySkp"
      }
    },
    {
      "cell_type": "code",
      "source": [
        "from tempfile import NamedTemporaryFile, TemporaryDirectory\n",
        "\n",
        "with TemporaryDirectory(dir='.') as td:\n",
        "    print('Temp directory:', td)\n",
        "    with NamedTemporaryFile(dir=td) as t:\n",
        "        name = t.name\n",
        "        print(name)"
      ],
      "metadata": {
        "colab": {
          "base_uri": "https://localhost:8080/"
        },
        "id": "we4a4gGfzvj7",
        "outputId": "502b5112-7d05-49db-c140-68985cf20662"
      },
      "execution_count": 35,
      "outputs": [
        {
          "output_type": "stream",
          "name": "stdout",
          "text": [
            "Temp directory: ./tmphpzv98gp\n",
            "/content/tmphpzv98gp/tmp6zcrocl5\n"
          ]
        }
      ]
    },
    {
      "cell_type": "markdown",
      "source": [
        "\n",
        "Este cambio asegura que las líneas de impresión estén correctamente indentadas dentro de los bloques with. De lo contrario, podría causar un error de indentación y el código no funcionaría como se esperaba."
      ],
      "metadata": {
        "id": "UmfYfqUezt-r"
      }
    },
    {
      "cell_type": "code",
      "source": [
        "from tempfile import NamedTemporaryFile, TemporaryDirectory\n",
        "\n",
        "with TemporaryDirectory(dir='.') as td:\n",
        "    print('Temp directory:', td)\n",
        "    with NamedTemporaryFile(dir=td) as t:\n",
        "        name = t.name\n",
        "        print(name)"
      ],
      "metadata": {
        "colab": {
          "base_uri": "https://localhost:8080/"
        },
        "id": "qJcJVfpG0K4d",
        "outputId": "d1f84da5-7e57-4852-e5f0-86118c445e50"
      },
      "execution_count": 36,
      "outputs": [
        {
          "output_type": "stream",
          "name": "stdout",
          "text": [
            "Temp directory: ./tmpb9jigz3h\n",
            "/content/tmpb9jigz3h/tmpk59n7ykx\n"
          ]
        }
      ]
    },
    {
      "cell_type": "markdown",
      "source": [
        "Este cambio asegura que las líneas de impresión estén correctamente indentadas dentro de los bloques with. De lo contrario, podría causar un error de indentación y el código no funcionaría como se esperaba."
      ],
      "metadata": {
        "id": "7AvSMVoT0zG7"
      }
    },
    {
      "cell_type": "code",
      "source": [
        "import os\n",
        "\n",
        "for root, dirs, files in os.walk('.'):\n",
        "    abs_root = os.path.abspath(root)\n",
        "    print(abs_root)\n",
        "\n",
        "    if dirs:\n",
        "        print('Directories:')\n",
        "        for dir_ in dirs:\n",
        "            print(dir_)\n",
        "        print()\n",
        "\n",
        "    if files:\n",
        "        print('Files:')\n",
        "        for filename in files:\n",
        "            print(filename)\n",
        "        print()"
      ],
      "metadata": {
        "colab": {
          "base_uri": "https://localhost:8080/"
        },
        "id": "zs4dApVh054N",
        "outputId": "ad04af4b-1a23-4892-a923-2ed6e002f27d"
      },
      "execution_count": 37,
      "outputs": [
        {
          "output_type": "stream",
          "name": "stdout",
          "text": [
            "/content\n",
            "Directories:\n",
            ".config\n",
            "sample_data\n",
            "\n",
            "Files:\n",
            "write_x.txt\n",
            "example.bin\n",
            "\n",
            "/content/.config\n",
            "Directories:\n",
            "logs\n",
            "configurations\n",
            "\n",
            "Files:\n",
            ".last_update_check.json\n",
            ".last_survey_prompt.yaml\n",
            "default_configs.db\n",
            ".last_opt_in_prompt.yaml\n",
            "gce\n",
            "active_config\n",
            "config_sentinel\n",
            "\n",
            "/content/.config/logs\n",
            "Directories:\n",
            "2023.09.22\n",
            "\n",
            "/content/.config/logs/2023.09.22\n",
            "Files:\n",
            "13.26.04.376163.log\n",
            "13.26.45.677687.log\n",
            "13.26.29.809674.log\n",
            "13.26.55.371178.log\n",
            "13.26.38.513798.log\n",
            "13.26.54.625978.log\n",
            "\n",
            "/content/.config/configurations\n",
            "Files:\n",
            "config_default\n",
            "\n",
            "/content/sample_data\n",
            "Files:\n",
            "anscombe.json\n",
            "README.md\n",
            "mnist_train_small.csv\n",
            "california_housing_train.csv\n",
            "mnist_test.csv\n",
            "california_housing_test.csv\n",
            "\n"
          ]
        }
      ]
    },
    {
      "cell_type": "code",
      "source": [],
      "metadata": {
        "id": "twjy0MIK2Deu"
      },
      "execution_count": null,
      "outputs": []
    },
    {
      "cell_type": "markdown",
      "source": [
        "El código para os.walk también parece estar en buen estado, y las correcciones aquí son para asegurarse de que las líneas de impresión estén correctamente indentadas dentro de los bucles for."
      ],
      "metadata": {
        "id": "bGmDpFWw044m"
      }
    }
  ]
}